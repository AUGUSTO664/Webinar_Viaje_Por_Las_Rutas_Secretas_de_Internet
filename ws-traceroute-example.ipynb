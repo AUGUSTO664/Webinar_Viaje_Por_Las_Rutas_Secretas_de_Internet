{
 "cells": [
  {
   "cell_type": "markdown",
   "id": "47cef3db-1f47-45ea-9f29-347aba4bc33b",
   "metadata": {},
   "source": [
    "# EXPLORANDO TRACEROUTES \n",
    "\n",
    "\n",
    "## DESCRIBIR ESTATUS DE LAS MEDICIONES\n",
    "\n",
    "1. Request status de las mediciones\n",
    "2. Convertir los datos en un dataframe\n",
    "3. Minar informacion\n",
    "\n",
    "## ANALISIS DE  RESULTADOS DE TRACEROUTES\n",
    "\n",
    "1. Request resultado de medicion.\n",
    "2. Convertir los datos en un dataframe\n",
    "3. Minar informacion\n",
    "\n",
    "\n",
    "\n",
    "\n"
   ]
  },
  {
   "cell_type": "code",
   "execution_count": 42,
   "id": "a8301599-39fa-4fdc-8b26-d5504359c403",
   "metadata": {},
   "outputs": [],
   "source": [
    "import pandas as pd\n",
    "from dotenv import load_dotenv\n",
    "import os\n",
    "load_dotenv()\n",
    "#api_key = os.getenv(\"API_KEY\")\n",
    "import requests\n",
    "import time\n"
   ]
  },
  {
   "cell_type": "code",
   "execution_count": null,
   "id": "28365bfd-bd59-469c-8ae4-51ac628a2069",
   "metadata": {},
   "outputs": [],
   "source": []
  },
  {
   "cell_type": "code",
   "execution_count": 43,
   "id": "8adc9be7-53b1-4a90-b4b6-f1e5010b104e",
   "metadata": {},
   "outputs": [],
   "source": [
    "# Atlas Script Process\n",
    "class Ripe_Client ():\n",
    "    def __init__(self):\n",
    "        self.base_url=\"https://atlas.ripe.net/api/v2\"\n",
    "        self.api_key= os.getenv(\"API_KEY\")\n",
    "\n",
    "\n",
    "    def get_measurment_status(self,mst_id):\n",
    "        # Check measurement status\n",
    "        status_url = f\"{self.base_url}/measurements/{mst_id}\"\n",
    "        headers = {\"Authorization\": f\"Key {self.api_key}\"}\n",
    "        response = requests.get(status_url, headers=headers)\n",
    "        status_data = response.json()\n",
    "        #print(\"Measurement Status:\", status_data)\n",
    "        return status_data\n",
    "\n",
    "    \n",
    "    def get_measurment_data(self,mst_id):\n",
    "        #get the data of the probes involved in the measurements\n",
    "        results_url = f\"{self.base_url}/measurements/{mst_id}/results/\"\n",
    "        headers = {\"Authorization\": f\"Key {self.api_key}\"}\n",
    "        response = requests.get(results_url, headers=headers)\n",
    "        results_data = response.json()\n",
    "        #print(\"Measurement Results:\", results_data)\n",
    "        return results_data\n",
    "        \n",
    "\n",
    "    def schedule_meassure(self,data):\n",
    "        #create the measure with the given data\n",
    "        headers = {\"Content-Type\": \"application/json\",\"Authorization\": f\"Key {self.api_key}\"}\n",
    "        response = requests.post(f\"{self.base_url}/measurements\", headers=headers, json=data)\n",
    "        #output->> {'measurements': [73201825]}\n",
    "        exct = response.json()\n",
    "        self.mst_id = exct['measurements'][0]\n",
    "        \n",
    "\n"
   ]
  },
  {
   "cell_type": "code",
   "execution_count": 44,
   "id": "ebd8281f-5d7a-4635-9b64-456a5e522215",
   "metadata": {},
   "outputs": [
    {
     "data": {
      "text/html": [
       "<div>\n",
       "<style scoped>\n",
       "    .dataframe tbody tr th:only-of-type {\n",
       "        vertical-align: middle;\n",
       "    }\n",
       "\n",
       "    .dataframe tbody tr th {\n",
       "        vertical-align: top;\n",
       "    }\n",
       "\n",
       "    .dataframe thead th {\n",
       "        text-align: right;\n",
       "    }\n",
       "</style>\n",
       "<table border=\"1\" class=\"dataframe\">\n",
       "  <thead>\n",
       "    <tr style=\"text-align: right;\">\n",
       "      <th></th>\n",
       "      <th>group_id</th>\n",
       "      <th>count</th>\n",
       "    </tr>\n",
       "  </thead>\n",
       "  <tbody>\n",
       "    <tr>\n",
       "      <th>0</th>\n",
       "      <td>73358277</td>\n",
       "      <td>1</td>\n",
       "    </tr>\n",
       "    <tr>\n",
       "      <th>1</th>\n",
       "      <td>73740001</td>\n",
       "      <td>1</td>\n",
       "    </tr>\n",
       "    <tr>\n",
       "      <th>2</th>\n",
       "      <td>73741027</td>\n",
       "      <td>1</td>\n",
       "    </tr>\n",
       "    <tr>\n",
       "      <th>3</th>\n",
       "      <td>73784066</td>\n",
       "      <td>1</td>\n",
       "    </tr>\n",
       "    <tr>\n",
       "      <th>4</th>\n",
       "      <td>73801575</td>\n",
       "      <td>1</td>\n",
       "    </tr>\n",
       "    <tr>\n",
       "      <th>...</th>\n",
       "      <td>...</td>\n",
       "      <td>...</td>\n",
       "    </tr>\n",
       "    <tr>\n",
       "      <th>360</th>\n",
       "      <td>76462435</td>\n",
       "      <td>1</td>\n",
       "    </tr>\n",
       "    <tr>\n",
       "      <th>361</th>\n",
       "      <td>76462457</td>\n",
       "      <td>1</td>\n",
       "    </tr>\n",
       "    <tr>\n",
       "      <th>362</th>\n",
       "      <td>76468885</td>\n",
       "      <td>1</td>\n",
       "    </tr>\n",
       "    <tr>\n",
       "      <th>363</th>\n",
       "      <td>76468915</td>\n",
       "      <td>1</td>\n",
       "    </tr>\n",
       "    <tr>\n",
       "      <th>364</th>\n",
       "      <td>76468932</td>\n",
       "      <td>1</td>\n",
       "    </tr>\n",
       "  </tbody>\n",
       "</table>\n",
       "<p>365 rows × 2 columns</p>\n",
       "</div>"
      ],
      "text/plain": [
       "     group_id  count\n",
       "0    73358277      1\n",
       "1    73740001      1\n",
       "2    73741027      1\n",
       "3    73784066      1\n",
       "4    73801575      1\n",
       "..        ...    ...\n",
       "360  76462435      1\n",
       "361  76462457      1\n",
       "362  76468885      1\n",
       "363  76468915      1\n",
       "364  76468932      1\n",
       "\n",
       "[365 rows x 2 columns]"
      ]
     },
     "execution_count": 44,
     "metadata": {},
     "output_type": "execute_result"
    }
   ],
   "source": [
    "file = \"/home/augusto/lacnic/notebooks/mst_ids.csv\"\n",
    "df = pd.read_csv(file)\n",
    "df"
   ]
  },
  {
   "cell_type": "code",
   "execution_count": null,
   "id": "9c11c52f-5ab9-46e3-aa2e-90edda3aa8a8",
   "metadata": {},
   "outputs": [],
   "source": []
  },
  {
   "cell_type": "code",
   "execution_count": 45,
   "id": "da27c1e1-2096-45fd-a74e-3de3a6ad59dd",
   "metadata": {},
   "outputs": [],
   "source": [
    "# Start the object atlas\n",
    "atlas = Ripe_Client()"
   ]
  },
  {
   "cell_type": "code",
   "execution_count": 46,
   "id": "f8e655a8-a154-4529-a0ca-b302b866f43b",
   "metadata": {},
   "outputs": [
    {
     "data": {
      "text/plain": [
       "{'af': 4,\n",
       " 'creation_time': 1718344665,\n",
       " 'credits_per_result': 60,\n",
       " 'description': 'Ping to tiktok.com',\n",
       " 'destination_option_size': None,\n",
       " 'dont_fragment': None,\n",
       " 'duplicate_timeout': 10,\n",
       " 'estimated_results_per_day': 20,\n",
       " 'first_hop': 1,\n",
       " 'gap_limit': None,\n",
       " 'group': 'https://atlas.ripe.net/api/v2/measurements/groups/73358277/',\n",
       " 'group_id': 73358277,\n",
       " 'hop_by_hop_option_size': None,\n",
       " 'id': 73358277,\n",
       " 'in_wifi_group': False,\n",
       " 'interval': None,\n",
       " 'is_all_scheduled': True,\n",
       " 'is_oneoff': True,\n",
       " 'is_public': True,\n",
       " 'max_hops': 32,\n",
       " 'packets': 3,\n",
       " 'paris': 16,\n",
       " 'participant_count': 20,\n",
       " 'port': 80,\n",
       " 'probes_requested': 20,\n",
       " 'probes_scheduled': 20,\n",
       " 'protocol': 'ICMP',\n",
       " 'resolve_on_probe': True,\n",
       " 'resolved_ips': ['104.110.240.195',\n",
       "  '104.110.240.203',\n",
       "  '104.110.240.202',\n",
       "  '104.110.240.201',\n",
       "  '104.110.240.232',\n",
       "  '104.110.240.233',\n",
       "  '104.110.240.227',\n",
       "  '104.110.240.194',\n",
       "  '104.110.240.192'],\n",
       " 'response_timeout': 4000,\n",
       " 'result': 'https://atlas.ripe.net/api/v2/measurements/73358277/results/',\n",
       " 'size': 48,\n",
       " 'spread': None,\n",
       " 'start_time': 1718344665,\n",
       " 'status': {'id': 4, 'name': 'Stopped', 'when': 1718345102},\n",
       " 'stop_time': 1718345102,\n",
       " 'tags': [],\n",
       " 'target': 'www.tiktok.com',\n",
       " 'target_asn': 20940,\n",
       " 'target_ip': '104.110.240.195',\n",
       " 'target_prefix': '104.110.240.0/24',\n",
       " 'traffic_class': None,\n",
       " 'type': 'traceroute'}"
      ]
     },
     "execution_count": 46,
     "metadata": {},
     "output_type": "execute_result"
    }
   ],
   "source": [
    "atlas.get_measurment_status(\"73358277\")"
   ]
  },
  {
   "cell_type": "code",
   "execution_count": null,
   "id": "bccacbbe-fd20-4f90-b7b8-c1936d2d4591",
   "metadata": {},
   "outputs": [],
   "source": []
  },
  {
   "cell_type": "code",
   "execution_count": null,
   "id": "7c850822-78e5-42e3-ae74-92b72652e079",
   "metadata": {},
   "outputs": [],
   "source": []
  },
  {
   "cell_type": "code",
   "execution_count": null,
   "id": "79417440-552d-43ef-aff2-745cfc0eed74",
   "metadata": {},
   "outputs": [],
   "source": []
  },
  {
   "cell_type": "code",
   "execution_count": null,
   "id": "281f0f56-09d1-4f55-a759-a0d51f0af876",
   "metadata": {},
   "outputs": [],
   "source": []
  },
  {
   "cell_type": "code",
   "execution_count": 47,
   "id": "306e4808-8de3-4bb6-953a-9e07a569f205",
   "metadata": {},
   "outputs": [
    {
     "name": "stdout",
     "output_type": "stream",
     "text": [
      "Tiempo de ejecución: 221.0071 segundos\n"
     ]
    }
   ],
   "source": [
    "# 1. Request status de las mediciones\n",
    "mediciones_estatus = []\n",
    "\n",
    "start = time.time()\n",
    "\n",
    "for idx,row in df.iterrows():\n",
    "     x = row[\"group_id\"]\n",
    "     temp =  atlas.get_measurment_status(x)\n",
    "     mediciones_estatus.append(temp)\n",
    "\n",
    "end = time.time()\n",
    "print(f\"Tiempo de ejecución: {end - start:.4f} segundos\")\n",
    "\n",
    "\n"
   ]
  },
  {
   "cell_type": "code",
   "execution_count": 48,
   "id": "a98bb858-35b0-4da3-951e-1bb3bf55bc73",
   "metadata": {},
   "outputs": [
    {
     "data": {
      "text/plain": [
       "365"
      ]
     },
     "execution_count": 48,
     "metadata": {},
     "output_type": "execute_result"
    }
   ],
   "source": [
    "len(mediciones_estatus)"
   ]
  },
  {
   "cell_type": "code",
   "execution_count": 49,
   "id": "c5ed704e-1200-492b-bf26-f78edb4cd4f3",
   "metadata": {},
   "outputs": [
    {
     "data": {
      "text/html": [
       "<div>\n",
       "<style scoped>\n",
       "    .dataframe tbody tr th:only-of-type {\n",
       "        vertical-align: middle;\n",
       "    }\n",
       "\n",
       "    .dataframe tbody tr th {\n",
       "        vertical-align: top;\n",
       "    }\n",
       "\n",
       "    .dataframe thead th {\n",
       "        text-align: right;\n",
       "    }\n",
       "</style>\n",
       "<table border=\"1\" class=\"dataframe\">\n",
       "  <thead>\n",
       "    <tr style=\"text-align: right;\">\n",
       "      <th></th>\n",
       "      <th>af</th>\n",
       "      <th>creation_time</th>\n",
       "      <th>credits_per_result</th>\n",
       "      <th>description</th>\n",
       "      <th>destination_option_size</th>\n",
       "      <th>dont_fragment</th>\n",
       "      <th>duplicate_timeout</th>\n",
       "      <th>estimated_results_per_day</th>\n",
       "      <th>first_hop</th>\n",
       "      <th>gap_limit</th>\n",
       "      <th>...</th>\n",
       "      <th>start_time</th>\n",
       "      <th>status</th>\n",
       "      <th>stop_time</th>\n",
       "      <th>tags</th>\n",
       "      <th>target</th>\n",
       "      <th>target_asn</th>\n",
       "      <th>target_ip</th>\n",
       "      <th>target_prefix</th>\n",
       "      <th>traffic_class</th>\n",
       "      <th>type</th>\n",
       "    </tr>\n",
       "  </thead>\n",
       "  <tbody>\n",
       "    <tr>\n",
       "      <th>0</th>\n",
       "      <td>4</td>\n",
       "      <td>1718344665</td>\n",
       "      <td>60</td>\n",
       "      <td>Ping to tiktok.com</td>\n",
       "      <td>None</td>\n",
       "      <td>None</td>\n",
       "      <td>10</td>\n",
       "      <td>20</td>\n",
       "      <td>1</td>\n",
       "      <td>None</td>\n",
       "      <td>...</td>\n",
       "      <td>1718344665</td>\n",
       "      <td>{'id': 4, 'name': 'Stopped', 'when': 1718345102}</td>\n",
       "      <td>1718345102</td>\n",
       "      <td>[]</td>\n",
       "      <td>www.tiktok.com</td>\n",
       "      <td>20940</td>\n",
       "      <td>104.110.240.195</td>\n",
       "      <td>104.110.240.0/24</td>\n",
       "      <td>None</td>\n",
       "      <td>traceroute</td>\n",
       "    </tr>\n",
       "    <tr>\n",
       "      <th>1</th>\n",
       "      <td>4</td>\n",
       "      <td>1718773801</td>\n",
       "      <td>60</td>\n",
       "      <td>Ping to tiktok.com</td>\n",
       "      <td>None</td>\n",
       "      <td>None</td>\n",
       "      <td>10</td>\n",
       "      <td>20</td>\n",
       "      <td>1</td>\n",
       "      <td>None</td>\n",
       "      <td>...</td>\n",
       "      <td>1718773801</td>\n",
       "      <td>{'id': 4, 'name': 'Stopped', 'when': 1718774103}</td>\n",
       "      <td>1718774103</td>\n",
       "      <td>[]</td>\n",
       "      <td>www.tiktok.com</td>\n",
       "      <td>20940</td>\n",
       "      <td>23.72.252.59</td>\n",
       "      <td>23.72.252.0/24</td>\n",
       "      <td>None</td>\n",
       "      <td>traceroute</td>\n",
       "    </tr>\n",
       "    <tr>\n",
       "      <th>2</th>\n",
       "      <td>4</td>\n",
       "      <td>1718775003</td>\n",
       "      <td>60</td>\n",
       "      <td>Trace to tiktok.com</td>\n",
       "      <td>None</td>\n",
       "      <td>None</td>\n",
       "      <td>10</td>\n",
       "      <td>20</td>\n",
       "      <td>1</td>\n",
       "      <td>None</td>\n",
       "      <td>...</td>\n",
       "      <td>1718775003</td>\n",
       "      <td>{'id': 4, 'name': 'Stopped', 'when': 1718775602}</td>\n",
       "      <td>1718775602</td>\n",
       "      <td>[]</td>\n",
       "      <td>www.tiktok.com</td>\n",
       "      <td>20940</td>\n",
       "      <td>23.72.252.90</td>\n",
       "      <td>23.72.252.0/24</td>\n",
       "      <td>None</td>\n",
       "      <td>traceroute</td>\n",
       "    </tr>\n",
       "    <tr>\n",
       "      <th>3</th>\n",
       "      <td>4</td>\n",
       "      <td>1718820003</td>\n",
       "      <td>60</td>\n",
       "      <td>Trace to tiktok.com</td>\n",
       "      <td>None</td>\n",
       "      <td>None</td>\n",
       "      <td>10</td>\n",
       "      <td>20</td>\n",
       "      <td>1</td>\n",
       "      <td>None</td>\n",
       "      <td>...</td>\n",
       "      <td>1718820003</td>\n",
       "      <td>{'id': 4, 'name': 'Stopped', 'when': 1718820303}</td>\n",
       "      <td>1718820303</td>\n",
       "      <td>[]</td>\n",
       "      <td>www.tiktok.com</td>\n",
       "      <td>20940</td>\n",
       "      <td>104.110.240.219</td>\n",
       "      <td>104.110.240.0/24</td>\n",
       "      <td>None</td>\n",
       "      <td>traceroute</td>\n",
       "    </tr>\n",
       "    <tr>\n",
       "      <th>4</th>\n",
       "      <td>4</td>\n",
       "      <td>1718838002</td>\n",
       "      <td>60</td>\n",
       "      <td>Trace to tiktok.com</td>\n",
       "      <td>None</td>\n",
       "      <td>None</td>\n",
       "      <td>10</td>\n",
       "      <td>20</td>\n",
       "      <td>1</td>\n",
       "      <td>None</td>\n",
       "      <td>...</td>\n",
       "      <td>1718838002</td>\n",
       "      <td>{'id': 4, 'name': 'Stopped', 'when': 1718838602}</td>\n",
       "      <td>1718838602</td>\n",
       "      <td>[]</td>\n",
       "      <td>www.tiktok.com</td>\n",
       "      <td>20940</td>\n",
       "      <td>23.72.252.89</td>\n",
       "      <td>23.72.252.0/24</td>\n",
       "      <td>None</td>\n",
       "      <td>traceroute</td>\n",
       "    </tr>\n",
       "    <tr>\n",
       "      <th>...</th>\n",
       "      <td>...</td>\n",
       "      <td>...</td>\n",
       "      <td>...</td>\n",
       "      <td>...</td>\n",
       "      <td>...</td>\n",
       "      <td>...</td>\n",
       "      <td>...</td>\n",
       "      <td>...</td>\n",
       "      <td>...</td>\n",
       "      <td>...</td>\n",
       "      <td>...</td>\n",
       "      <td>...</td>\n",
       "      <td>...</td>\n",
       "      <td>...</td>\n",
       "      <td>...</td>\n",
       "      <td>...</td>\n",
       "      <td>...</td>\n",
       "      <td>...</td>\n",
       "      <td>...</td>\n",
       "      <td>...</td>\n",
       "      <td>...</td>\n",
       "    </tr>\n",
       "    <tr>\n",
       "      <th>360</th>\n",
       "      <td>4</td>\n",
       "      <td>1722535275</td>\n",
       "      <td>60</td>\n",
       "      <td>Trace to www.meta.com</td>\n",
       "      <td>None</td>\n",
       "      <td>None</td>\n",
       "      <td>10</td>\n",
       "      <td>16</td>\n",
       "      <td>1</td>\n",
       "      <td>None</td>\n",
       "      <td>...</td>\n",
       "      <td>1722535275</td>\n",
       "      <td>{'id': 4, 'name': 'Stopped', 'when': 1722535802}</td>\n",
       "      <td>1722535802</td>\n",
       "      <td>[]</td>\n",
       "      <td>www.meta.com</td>\n",
       "      <td>32934</td>\n",
       "      <td>157.240.201.17</td>\n",
       "      <td>157.240.201.0/24</td>\n",
       "      <td>None</td>\n",
       "      <td>traceroute</td>\n",
       "    </tr>\n",
       "    <tr>\n",
       "      <th>361</th>\n",
       "      <td>4</td>\n",
       "      <td>1722535349</td>\n",
       "      <td>60</td>\n",
       "      <td>Trace to www.youtube.com</td>\n",
       "      <td>None</td>\n",
       "      <td>None</td>\n",
       "      <td>10</td>\n",
       "      <td>16</td>\n",
       "      <td>1</td>\n",
       "      <td>None</td>\n",
       "      <td>...</td>\n",
       "      <td>1722535349</td>\n",
       "      <td>{'id': 4, 'name': 'Stopped', 'when': 1722535802}</td>\n",
       "      <td>1722535802</td>\n",
       "      <td>[]</td>\n",
       "      <td>www.youtube.com</td>\n",
       "      <td>15169</td>\n",
       "      <td>142.250.179.174</td>\n",
       "      <td>142.250.0.0/15</td>\n",
       "      <td>None</td>\n",
       "      <td>traceroute</td>\n",
       "    </tr>\n",
       "    <tr>\n",
       "      <th>362</th>\n",
       "      <td>4</td>\n",
       "      <td>1722553202</td>\n",
       "      <td>60</td>\n",
       "      <td>Trace to www.tiktok.com</td>\n",
       "      <td>None</td>\n",
       "      <td>None</td>\n",
       "      <td>10</td>\n",
       "      <td>16</td>\n",
       "      <td>1</td>\n",
       "      <td>None</td>\n",
       "      <td>...</td>\n",
       "      <td>1722553202</td>\n",
       "      <td>{'id': 4, 'name': 'Stopped', 'when': 1722553802}</td>\n",
       "      <td>1722553802</td>\n",
       "      <td>[]</td>\n",
       "      <td>www.tiktok.com</td>\n",
       "      <td>20940</td>\n",
       "      <td>104.110.240.219</td>\n",
       "      <td>104.110.240.0/24</td>\n",
       "      <td>None</td>\n",
       "      <td>traceroute</td>\n",
       "    </tr>\n",
       "    <tr>\n",
       "      <th>363</th>\n",
       "      <td>4</td>\n",
       "      <td>1722553276</td>\n",
       "      <td>60</td>\n",
       "      <td>Trace to www.meta.com</td>\n",
       "      <td>None</td>\n",
       "      <td>None</td>\n",
       "      <td>10</td>\n",
       "      <td>16</td>\n",
       "      <td>1</td>\n",
       "      <td>None</td>\n",
       "      <td>...</td>\n",
       "      <td>1722553276</td>\n",
       "      <td>{'id': 4, 'name': 'Stopped', 'when': 1722553802}</td>\n",
       "      <td>1722553802</td>\n",
       "      <td>[]</td>\n",
       "      <td>www.meta.com</td>\n",
       "      <td>32934</td>\n",
       "      <td>157.240.201.17</td>\n",
       "      <td>157.240.201.0/24</td>\n",
       "      <td>None</td>\n",
       "      <td>traceroute</td>\n",
       "    </tr>\n",
       "    <tr>\n",
       "      <th>364</th>\n",
       "      <td>4</td>\n",
       "      <td>1722553349</td>\n",
       "      <td>60</td>\n",
       "      <td>Trace to www.youtube.com</td>\n",
       "      <td>None</td>\n",
       "      <td>None</td>\n",
       "      <td>10</td>\n",
       "      <td>16</td>\n",
       "      <td>1</td>\n",
       "      <td>None</td>\n",
       "      <td>...</td>\n",
       "      <td>1722553349</td>\n",
       "      <td>{'id': 4, 'name': 'Stopped', 'when': 1722553802}</td>\n",
       "      <td>1722553802</td>\n",
       "      <td>[]</td>\n",
       "      <td>www.youtube.com</td>\n",
       "      <td>15169</td>\n",
       "      <td>142.250.179.174</td>\n",
       "      <td>142.250.0.0/15</td>\n",
       "      <td>None</td>\n",
       "      <td>traceroute</td>\n",
       "    </tr>\n",
       "  </tbody>\n",
       "</table>\n",
       "<p>365 rows × 43 columns</p>\n",
       "</div>"
      ],
      "text/plain": [
       "     af  creation_time  credits_per_result               description  \\\n",
       "0     4     1718344665                  60        Ping to tiktok.com   \n",
       "1     4     1718773801                  60        Ping to tiktok.com   \n",
       "2     4     1718775003                  60       Trace to tiktok.com   \n",
       "3     4     1718820003                  60       Trace to tiktok.com   \n",
       "4     4     1718838002                  60       Trace to tiktok.com   \n",
       "..   ..            ...                 ...                       ...   \n",
       "360   4     1722535275                  60     Trace to www.meta.com   \n",
       "361   4     1722535349                  60  Trace to www.youtube.com   \n",
       "362   4     1722553202                  60   Trace to www.tiktok.com   \n",
       "363   4     1722553276                  60     Trace to www.meta.com   \n",
       "364   4     1722553349                  60  Trace to www.youtube.com   \n",
       "\n",
       "    destination_option_size dont_fragment  duplicate_timeout  \\\n",
       "0                      None          None                 10   \n",
       "1                      None          None                 10   \n",
       "2                      None          None                 10   \n",
       "3                      None          None                 10   \n",
       "4                      None          None                 10   \n",
       "..                      ...           ...                ...   \n",
       "360                    None          None                 10   \n",
       "361                    None          None                 10   \n",
       "362                    None          None                 10   \n",
       "363                    None          None                 10   \n",
       "364                    None          None                 10   \n",
       "\n",
       "     estimated_results_per_day  first_hop gap_limit  ...  start_time  \\\n",
       "0                           20          1      None  ...  1718344665   \n",
       "1                           20          1      None  ...  1718773801   \n",
       "2                           20          1      None  ...  1718775003   \n",
       "3                           20          1      None  ...  1718820003   \n",
       "4                           20          1      None  ...  1718838002   \n",
       "..                         ...        ...       ...  ...         ...   \n",
       "360                         16          1      None  ...  1722535275   \n",
       "361                         16          1      None  ...  1722535349   \n",
       "362                         16          1      None  ...  1722553202   \n",
       "363                         16          1      None  ...  1722553276   \n",
       "364                         16          1      None  ...  1722553349   \n",
       "\n",
       "                                               status   stop_time  tags  \\\n",
       "0    {'id': 4, 'name': 'Stopped', 'when': 1718345102}  1718345102    []   \n",
       "1    {'id': 4, 'name': 'Stopped', 'when': 1718774103}  1718774103    []   \n",
       "2    {'id': 4, 'name': 'Stopped', 'when': 1718775602}  1718775602    []   \n",
       "3    {'id': 4, 'name': 'Stopped', 'when': 1718820303}  1718820303    []   \n",
       "4    {'id': 4, 'name': 'Stopped', 'when': 1718838602}  1718838602    []   \n",
       "..                                                ...         ...   ...   \n",
       "360  {'id': 4, 'name': 'Stopped', 'when': 1722535802}  1722535802    []   \n",
       "361  {'id': 4, 'name': 'Stopped', 'when': 1722535802}  1722535802    []   \n",
       "362  {'id': 4, 'name': 'Stopped', 'when': 1722553802}  1722553802    []   \n",
       "363  {'id': 4, 'name': 'Stopped', 'when': 1722553802}  1722553802    []   \n",
       "364  {'id': 4, 'name': 'Stopped', 'when': 1722553802}  1722553802    []   \n",
       "\n",
       "              target target_asn        target_ip     target_prefix  \\\n",
       "0     www.tiktok.com      20940  104.110.240.195  104.110.240.0/24   \n",
       "1     www.tiktok.com      20940     23.72.252.59    23.72.252.0/24   \n",
       "2     www.tiktok.com      20940     23.72.252.90    23.72.252.0/24   \n",
       "3     www.tiktok.com      20940  104.110.240.219  104.110.240.0/24   \n",
       "4     www.tiktok.com      20940     23.72.252.89    23.72.252.0/24   \n",
       "..               ...        ...              ...               ...   \n",
       "360     www.meta.com      32934   157.240.201.17  157.240.201.0/24   \n",
       "361  www.youtube.com      15169  142.250.179.174    142.250.0.0/15   \n",
       "362   www.tiktok.com      20940  104.110.240.219  104.110.240.0/24   \n",
       "363     www.meta.com      32934   157.240.201.17  157.240.201.0/24   \n",
       "364  www.youtube.com      15169  142.250.179.174    142.250.0.0/15   \n",
       "\n",
       "     traffic_class        type  \n",
       "0             None  traceroute  \n",
       "1             None  traceroute  \n",
       "2             None  traceroute  \n",
       "3             None  traceroute  \n",
       "4             None  traceroute  \n",
       "..             ...         ...  \n",
       "360           None  traceroute  \n",
       "361           None  traceroute  \n",
       "362           None  traceroute  \n",
       "363           None  traceroute  \n",
       "364           None  traceroute  \n",
       "\n",
       "[365 rows x 43 columns]"
      ]
     },
     "execution_count": 49,
     "metadata": {},
     "output_type": "execute_result"
    }
   ],
   "source": [
    "# 2. Convertir los datos en un dataframe\n",
    "mst_results = pd.DataFrame(mediciones_estatus)\n",
    "mst_results"
   ]
  },
  {
   "cell_type": "code",
   "execution_count": null,
   "id": "dca40b77-46e0-46d3-93ea-30b01e54a9d5",
   "metadata": {},
   "outputs": [],
   "source": []
  },
  {
   "cell_type": "code",
   "execution_count": 50,
   "id": "935f8b21-d6f7-40d6-97d4-2d8ddce8e2e3",
   "metadata": {},
   "outputs": [
    {
     "data": {
      "text/plain": [
       "target_asn\n",
       "15169     98\n",
       "20940    169\n",
       "32934     98\n",
       "dtype: int64"
      ]
     },
     "execution_count": 50,
     "metadata": {},
     "output_type": "execute_result"
    }
   ],
   "source": [
    "mst_results.groupby(\"target_asn\").size()"
   ]
  },
  {
   "cell_type": "code",
   "execution_count": 51,
   "id": "d7659db1-4eeb-4a82-96fa-ad8b98f2a393",
   "metadata": {},
   "outputs": [
    {
     "data": {
      "text/plain": [
       "target           target_ip        target_asn\n",
       "www.meta.com     157.240.201.17   32934         98\n",
       "www.tiktok.com   104.110.240.194  20940          2\n",
       "                 104.110.240.195  20940         16\n",
       "                 104.110.240.203  20940          3\n",
       "                 104.110.240.208  20940          3\n",
       "                 104.110.240.209  20940          1\n",
       "                 104.110.240.210  20940          6\n",
       "                 104.110.240.211  20940          4\n",
       "                 104.110.240.216  20940          4\n",
       "                 104.110.240.217  20940         11\n",
       "                 104.110.240.218  20940         22\n",
       "                 104.110.240.219  20940         75\n",
       "                 104.110.240.226  20940          3\n",
       "                 104.110.240.227  20940         11\n",
       "                 104.110.240.232  20940          5\n",
       "                 23.72.252.59     20940          1\n",
       "                 23.72.252.89     20940          1\n",
       "                 23.72.252.90     20940          1\n",
       "www.youtube.com  142.250.102.190  15169          8\n",
       "                 142.250.179.142  15169          9\n",
       "                 142.250.179.174  15169          9\n",
       "                 142.250.179.206  15169          9\n",
       "                 142.250.27.190   15169         10\n",
       "                 142.251.36.14    15169          7\n",
       "                 142.251.36.46    15169          9\n",
       "                 142.251.39.110   15169         12\n",
       "                 172.217.168.206  15169          5\n",
       "                 172.217.168.238  15169          4\n",
       "                 172.217.23.206   15169          5\n",
       "                 216.58.208.110   15169          4\n",
       "                 216.58.214.14    15169          7\n",
       "dtype: int64"
      ]
     },
     "execution_count": 51,
     "metadata": {},
     "output_type": "execute_result"
    }
   ],
   "source": [
    "mst_results.groupby(['target','target_ip',\"target_asn\"]).size()"
   ]
  },
  {
   "cell_type": "code",
   "execution_count": null,
   "id": "443575fa-2bdd-40bb-b060-adaa905e02df",
   "metadata": {},
   "outputs": [],
   "source": []
  },
  {
   "cell_type": "markdown",
   "id": "9f62f1fb-b70f-4507-b18c-ad1917389118",
   "metadata": {},
   "source": [
    "# Resultado de Traceroutes\n",
    "\n",
    "\n"
   ]
  },
  {
   "cell_type": "code",
   "execution_count": 52,
   "id": "8ed3d142-2aad-4079-9491-2f57536b9575",
   "metadata": {},
   "outputs": [
    {
     "name": "stdout",
     "output_type": "stream",
     "text": [
      "Tiempo de ejecución: 318.1951 segundos\n"
     ]
    }
   ],
   "source": [
    "traces = []\n",
    "\n",
    "start = time.time()\n",
    "\n",
    "for idx,row in df.iterrows():\n",
    "     x = row[\"group_id\"]\n",
    "     temp =  atlas.get_measurment_data(x)\n",
    "     traces += temp\n",
    "\n",
    "end = time.time()\n",
    "print(f\"Tiempo de ejecución: {end - start:.4f} segundos\")\n"
   ]
  },
  {
   "cell_type": "code",
   "execution_count": 20,
   "id": "4550027c-c200-4262-8d5a-eaf92d78e910",
   "metadata": {},
   "outputs": [
    {
     "data": {
      "text/plain": [
       "list"
      ]
     },
     "execution_count": 20,
     "metadata": {},
     "output_type": "execute_result"
    }
   ],
   "source": [
    "type(traces)"
   ]
  },
  {
   "cell_type": "code",
   "execution_count": 21,
   "id": "4e0d1f0b-0ded-4039-8f15-98368a855869",
   "metadata": {},
   "outputs": [
    {
     "data": {
      "text/plain": [
       "5921"
      ]
     },
     "execution_count": 21,
     "metadata": {},
     "output_type": "execute_result"
    }
   ],
   "source": [
    "len(traces)"
   ]
  },
  {
   "cell_type": "code",
   "execution_count": 22,
   "id": "eb4d60d7-0f2a-44b8-831c-ac300f6cb4a1",
   "metadata": {},
   "outputs": [
    {
     "data": {
      "text/plain": [
       "{'fw': 5040,\n",
       " 'mver': '2.4.1',\n",
       " 'lts': 37,\n",
       " 'endtime': 1718344716,\n",
       " 'dst_name': 'www.tiktok.com',\n",
       " 'ttr': 59.570485,\n",
       " 'dst_addr': '23.201.195.155',\n",
       " 'src_addr': '192.168.1.33',\n",
       " 'proto': 'ICMP',\n",
       " 'af': 4,\n",
       " 'size': 48,\n",
       " 'paris_id': 1,\n",
       " 'result': [{'hop': 1,\n",
       "   'result': [{'from': '192.168.1.1', 'ttl': 64, 'size': 76, 'rtt': 0.94},\n",
       "    {'from': '192.168.1.1', 'ttl': 64, 'size': 76, 'rtt': 0.824},\n",
       "    {'from': '192.168.1.1', 'ttl': 64, 'size': 76, 'rtt': 0.91}]},\n",
       "  {'hop': 2,\n",
       "   'result': [{'from': '10.70.0.1', 'ttl': 63, 'size': 76, 'rtt': 1.398},\n",
       "    {'from': '10.70.0.1', 'ttl': 63, 'size': 76, 'rtt': 1.833},\n",
       "    {'from': '10.70.0.1', 'ttl': 63, 'size': 76, 'rtt': 1.837}]},\n",
       "  {'hop': 3,\n",
       "   'result': [{'from': '45.238.188.129', 'ttl': 253, 'size': 68, 'rtt': 1.949},\n",
       "    {'from': '45.238.188.129', 'ttl': 253, 'size': 68, 'rtt': 1.472},\n",
       "    {'from': '45.238.188.129', 'ttl': 253, 'size': 68, 'rtt': 2.017}]},\n",
       "  {'hop': 4,\n",
       "   'result': [{'from': '8.243.219.205', 'ttl': 251, 'size': 28, 'rtt': 2.445},\n",
       "    {'from': '8.243.219.205', 'ttl': 251, 'size': 28, 'rtt': 2.99},\n",
       "    {'from': '8.243.219.205', 'ttl': 251, 'size': 28, 'rtt': 2.93}]},\n",
       "  {'hop': 5, 'result': [{'x': '*'}, {'x': '*'}, {'x': '*'}]},\n",
       "  {'hop': 6,\n",
       "   'result': [{'from': '4.30.70.2', 'ttl': 249, 'size': 28, 'rtt': 30.146},\n",
       "    {'from': '4.30.70.2', 'ttl': 249, 'size': 28, 'rtt': 29.879},\n",
       "    {'from': '4.30.70.2', 'ttl': 249, 'size': 28, 'rtt': 29.844}]},\n",
       "  {'hop': 7,\n",
       "   'result': [{'from': '62.115.190.219', 'ttl': 58, 'size': 76, 'rtt': 29.781},\n",
       "    {'from': '62.115.190.219', 'ttl': 58, 'size': 76, 'rtt': 29.785},\n",
       "    {'from': '62.115.190.219', 'ttl': 58, 'size': 76, 'rtt': 28.928}]},\n",
       "  {'hop': 8, 'result': [{'x': '*'}, {'x': '*'}, {'x': '*'}]},\n",
       "  {'hop': 9, 'result': [{'x': '*'}, {'x': '*'}, {'x': '*'}]},\n",
       "  {'hop': 10, 'result': [{'x': '*'}, {'x': '*'}, {'x': '*'}]},\n",
       "  {'hop': 11,\n",
       "   'result': [{'from': '23.201.195.155', 'ttl': 55, 'size': 48, 'rtt': 29.473},\n",
       "    {'from': '23.201.195.155', 'ttl': 55, 'size': 48, 'rtt': 29.429},\n",
       "    {'from': '23.201.195.155', 'ttl': 55, 'size': 48, 'rtt': 29.986}]}],\n",
       " 'destination_ip_responded': True,\n",
       " 'msm_id': 73358277,\n",
       " 'prb_id': 1003249,\n",
       " 'timestamp': 1718344667,\n",
       " 'msm_name': 'Traceroute',\n",
       " 'from': '45.238.188.144',\n",
       " 'type': 'traceroute',\n",
       " 'group_id': 73358277,\n",
       " 'stored_timestamp': 1718344717}"
      ]
     },
     "execution_count": 22,
     "metadata": {},
     "output_type": "execute_result"
    }
   ],
   "source": [
    "traces[0]"
   ]
  },
  {
   "cell_type": "code",
   "execution_count": 23,
   "id": "f4394cd9-cfb6-4a9d-819c-221322e42643",
   "metadata": {},
   "outputs": [
    {
     "data": {
      "text/html": [
       "<div>\n",
       "<style scoped>\n",
       "    .dataframe tbody tr th:only-of-type {\n",
       "        vertical-align: middle;\n",
       "    }\n",
       "\n",
       "    .dataframe tbody tr th {\n",
       "        vertical-align: top;\n",
       "    }\n",
       "\n",
       "    .dataframe thead th {\n",
       "        text-align: right;\n",
       "    }\n",
       "</style>\n",
       "<table border=\"1\" class=\"dataframe\">\n",
       "  <thead>\n",
       "    <tr style=\"text-align: right;\">\n",
       "      <th></th>\n",
       "      <th>fw</th>\n",
       "      <th>mver</th>\n",
       "      <th>lts</th>\n",
       "      <th>endtime</th>\n",
       "      <th>dst_name</th>\n",
       "      <th>ttr</th>\n",
       "      <th>dst_addr</th>\n",
       "      <th>src_addr</th>\n",
       "      <th>proto</th>\n",
       "      <th>af</th>\n",
       "      <th>...</th>\n",
       "      <th>result</th>\n",
       "      <th>destination_ip_responded</th>\n",
       "      <th>msm_id</th>\n",
       "      <th>prb_id</th>\n",
       "      <th>timestamp</th>\n",
       "      <th>msm_name</th>\n",
       "      <th>from</th>\n",
       "      <th>type</th>\n",
       "      <th>group_id</th>\n",
       "      <th>stored_timestamp</th>\n",
       "    </tr>\n",
       "  </thead>\n",
       "  <tbody>\n",
       "    <tr>\n",
       "      <th>0</th>\n",
       "      <td>5040</td>\n",
       "      <td>2.4.1</td>\n",
       "      <td>37</td>\n",
       "      <td>1718344716</td>\n",
       "      <td>www.tiktok.com</td>\n",
       "      <td>59.570485</td>\n",
       "      <td>23.201.195.155</td>\n",
       "      <td>192.168.1.33</td>\n",
       "      <td>ICMP</td>\n",
       "      <td>4</td>\n",
       "      <td>...</td>\n",
       "      <td>[{'hop': 1, 'result': [{'from': '192.168.1.1',...</td>\n",
       "      <td>True</td>\n",
       "      <td>73358277</td>\n",
       "      <td>1003249</td>\n",
       "      <td>1718344667</td>\n",
       "      <td>Traceroute</td>\n",
       "      <td>45.238.188.144</td>\n",
       "      <td>traceroute</td>\n",
       "      <td>73358277</td>\n",
       "      <td>1718344717</td>\n",
       "    </tr>\n",
       "    <tr>\n",
       "      <th>1</th>\n",
       "      <td>5060</td>\n",
       "      <td>2.5.1</td>\n",
       "      <td>3</td>\n",
       "      <td>1718344705</td>\n",
       "      <td>www.tiktok.com</td>\n",
       "      <td>83.953238</td>\n",
       "      <td>104.97.2.138</td>\n",
       "      <td>192.168.1.110</td>\n",
       "      <td>ICMP</td>\n",
       "      <td>4</td>\n",
       "      <td>...</td>\n",
       "      <td>[{'hop': 1, 'result': [{'from': '192.168.1.254...</td>\n",
       "      <td>True</td>\n",
       "      <td>73358277</td>\n",
       "      <td>1004112</td>\n",
       "      <td>1718344667</td>\n",
       "      <td>Traceroute</td>\n",
       "      <td>189.174.31.12</td>\n",
       "      <td>traceroute</td>\n",
       "      <td>73358277</td>\n",
       "      <td>1718344706</td>\n",
       "    </tr>\n",
       "    <tr>\n",
       "      <th>2</th>\n",
       "      <td>5080</td>\n",
       "      <td>2.6.2</td>\n",
       "      <td>4</td>\n",
       "      <td>1718344668</td>\n",
       "      <td>www.tiktok.com</td>\n",
       "      <td>7.962550</td>\n",
       "      <td>23.64.121.40</td>\n",
       "      <td>192.168.1.111</td>\n",
       "      <td>ICMP</td>\n",
       "      <td>4</td>\n",
       "      <td>...</td>\n",
       "      <td>[{'hop': 1, 'result': [{'from': '192.168.1.254...</td>\n",
       "      <td>True</td>\n",
       "      <td>73358277</td>\n",
       "      <td>1004979</td>\n",
       "      <td>1718344667</td>\n",
       "      <td>Traceroute</td>\n",
       "      <td>187.173.149.178</td>\n",
       "      <td>traceroute</td>\n",
       "      <td>73358277</td>\n",
       "      <td>1718344669</td>\n",
       "    </tr>\n",
       "    <tr>\n",
       "      <th>3</th>\n",
       "      <td>5080</td>\n",
       "      <td>2.6.2</td>\n",
       "      <td>24</td>\n",
       "      <td>1718344667</td>\n",
       "      <td>www.tiktok.com</td>\n",
       "      <td>0.874699</td>\n",
       "      <td>23.64.121.19</td>\n",
       "      <td>200.25.81.165</td>\n",
       "      <td>ICMP</td>\n",
       "      <td>4</td>\n",
       "      <td>...</td>\n",
       "      <td>[{'hop': 1, 'result': [{'from': '200.25.81.98'...</td>\n",
       "      <td>True</td>\n",
       "      <td>73358277</td>\n",
       "      <td>1006632</td>\n",
       "      <td>1718344667</td>\n",
       "      <td>Traceroute</td>\n",
       "      <td>200.25.81.165</td>\n",
       "      <td>traceroute</td>\n",
       "      <td>73358277</td>\n",
       "      <td>1718344668</td>\n",
       "    </tr>\n",
       "    <tr>\n",
       "      <th>4</th>\n",
       "      <td>5080</td>\n",
       "      <td>2.6.2</td>\n",
       "      <td>6</td>\n",
       "      <td>1718344672</td>\n",
       "      <td>www.tiktok.com</td>\n",
       "      <td>4.594371</td>\n",
       "      <td>23.64.121.65</td>\n",
       "      <td>172.18.0.2</td>\n",
       "      <td>ICMP</td>\n",
       "      <td>4</td>\n",
       "      <td>...</td>\n",
       "      <td>[{'hop': 1, 'result': [{'from': '172.18.0.1', ...</td>\n",
       "      <td>True</td>\n",
       "      <td>73358277</td>\n",
       "      <td>1008340</td>\n",
       "      <td>1718344667</td>\n",
       "      <td>Traceroute</td>\n",
       "      <td>187.155.19.64</td>\n",
       "      <td>traceroute</td>\n",
       "      <td>73358277</td>\n",
       "      <td>1718344673</td>\n",
       "    </tr>\n",
       "    <tr>\n",
       "      <th>...</th>\n",
       "      <td>...</td>\n",
       "      <td>...</td>\n",
       "      <td>...</td>\n",
       "      <td>...</td>\n",
       "      <td>...</td>\n",
       "      <td>...</td>\n",
       "      <td>...</td>\n",
       "      <td>...</td>\n",
       "      <td>...</td>\n",
       "      <td>...</td>\n",
       "      <td>...</td>\n",
       "      <td>...</td>\n",
       "      <td>...</td>\n",
       "      <td>...</td>\n",
       "      <td>...</td>\n",
       "      <td>...</td>\n",
       "      <td>...</td>\n",
       "      <td>...</td>\n",
       "      <td>...</td>\n",
       "      <td>...</td>\n",
       "      <td>...</td>\n",
       "    </tr>\n",
       "    <tr>\n",
       "      <th>5916</th>\n",
       "      <td>5040</td>\n",
       "      <td>2.4.1</td>\n",
       "      <td>34</td>\n",
       "      <td>1722553352</td>\n",
       "      <td>www.youtube.com</td>\n",
       "      <td>34.101434</td>\n",
       "      <td>172.217.3.142</td>\n",
       "      <td>192.168.1.36</td>\n",
       "      <td>ICMP</td>\n",
       "      <td>4</td>\n",
       "      <td>...</td>\n",
       "      <td>[{'hop': 1, 'result': [{'from': '192.168.1.1',...</td>\n",
       "      <td>True</td>\n",
       "      <td>76468932</td>\n",
       "      <td>1003249</td>\n",
       "      <td>1722553351</td>\n",
       "      <td>Traceroute</td>\n",
       "      <td>45.238.188.144</td>\n",
       "      <td>traceroute</td>\n",
       "      <td>76468932</td>\n",
       "      <td>1722553353</td>\n",
       "    </tr>\n",
       "    <tr>\n",
       "      <th>5917</th>\n",
       "      <td>5080</td>\n",
       "      <td>2.6.2</td>\n",
       "      <td>11</td>\n",
       "      <td>1722553423</td>\n",
       "      <td>www.youtube.com</td>\n",
       "      <td>32.525437</td>\n",
       "      <td>192.178.56.110</td>\n",
       "      <td>192.168.100.5</td>\n",
       "      <td>ICMP</td>\n",
       "      <td>4</td>\n",
       "      <td>...</td>\n",
       "      <td>[{'hop': 1, 'result': [{'x': '*'}, {'x': '*'},...</td>\n",
       "      <td>True</td>\n",
       "      <td>76468932</td>\n",
       "      <td>60714</td>\n",
       "      <td>1722553350</td>\n",
       "      <td>Traceroute</td>\n",
       "      <td>177.240.30.196</td>\n",
       "      <td>traceroute</td>\n",
       "      <td>76468932</td>\n",
       "      <td>1722553424</td>\n",
       "    </tr>\n",
       "    <tr>\n",
       "      <th>5918</th>\n",
       "      <td>5080</td>\n",
       "      <td>2.6.2</td>\n",
       "      <td>18</td>\n",
       "      <td>1722553354</td>\n",
       "      <td>www.youtube.com</td>\n",
       "      <td>1.917643</td>\n",
       "      <td>172.217.12.142</td>\n",
       "      <td>10.17.38.65</td>\n",
       "      <td>ICMP</td>\n",
       "      <td>4</td>\n",
       "      <td>...</td>\n",
       "      <td>[{'hop': 1, 'result': [{'from': '10.17.63.254'...</td>\n",
       "      <td>True</td>\n",
       "      <td>76468932</td>\n",
       "      <td>60909</td>\n",
       "      <td>1722553351</td>\n",
       "      <td>Traceroute</td>\n",
       "      <td>187.228.64.162</td>\n",
       "      <td>traceroute</td>\n",
       "      <td>76468932</td>\n",
       "      <td>1722553355</td>\n",
       "    </tr>\n",
       "    <tr>\n",
       "      <th>5919</th>\n",
       "      <td>5080</td>\n",
       "      <td>2.6.2</td>\n",
       "      <td>5</td>\n",
       "      <td>1722553356</td>\n",
       "      <td>www.youtube.com</td>\n",
       "      <td>9.261933</td>\n",
       "      <td>192.178.56.238</td>\n",
       "      <td>172.18.0.2</td>\n",
       "      <td>ICMP</td>\n",
       "      <td>4</td>\n",
       "      <td>...</td>\n",
       "      <td>[{'hop': 1, 'result': [{'from': '172.18.0.1', ...</td>\n",
       "      <td>True</td>\n",
       "      <td>76468932</td>\n",
       "      <td>1008340</td>\n",
       "      <td>1722553351</td>\n",
       "      <td>Traceroute</td>\n",
       "      <td>189.176.56.21</td>\n",
       "      <td>traceroute</td>\n",
       "      <td>76468932</td>\n",
       "      <td>1722553357</td>\n",
       "    </tr>\n",
       "    <tr>\n",
       "      <th>5920</th>\n",
       "      <td>5080</td>\n",
       "      <td>2.6.2</td>\n",
       "      <td>26</td>\n",
       "      <td>1722553351</td>\n",
       "      <td>www.youtube.com</td>\n",
       "      <td>4.854927</td>\n",
       "      <td>192.178.57.14</td>\n",
       "      <td>192.168.1.66</td>\n",
       "      <td>ICMP</td>\n",
       "      <td>4</td>\n",
       "      <td>...</td>\n",
       "      <td>[{'hop': 1, 'result': [{'from': '192.168.1.254...</td>\n",
       "      <td>True</td>\n",
       "      <td>76468932</td>\n",
       "      <td>19709</td>\n",
       "      <td>1722553350</td>\n",
       "      <td>Traceroute</td>\n",
       "      <td>201.108.156.204</td>\n",
       "      <td>traceroute</td>\n",
       "      <td>76468932</td>\n",
       "      <td>1722553352</td>\n",
       "    </tr>\n",
       "  </tbody>\n",
       "</table>\n",
       "<p>5921 rows × 22 columns</p>\n",
       "</div>"
      ],
      "text/plain": [
       "        fw   mver  lts     endtime         dst_name        ttr  \\\n",
       "0     5040  2.4.1   37  1718344716   www.tiktok.com  59.570485   \n",
       "1     5060  2.5.1    3  1718344705   www.tiktok.com  83.953238   \n",
       "2     5080  2.6.2    4  1718344668   www.tiktok.com   7.962550   \n",
       "3     5080  2.6.2   24  1718344667   www.tiktok.com   0.874699   \n",
       "4     5080  2.6.2    6  1718344672   www.tiktok.com   4.594371   \n",
       "...    ...    ...  ...         ...              ...        ...   \n",
       "5916  5040  2.4.1   34  1722553352  www.youtube.com  34.101434   \n",
       "5917  5080  2.6.2   11  1722553423  www.youtube.com  32.525437   \n",
       "5918  5080  2.6.2   18  1722553354  www.youtube.com   1.917643   \n",
       "5919  5080  2.6.2    5  1722553356  www.youtube.com   9.261933   \n",
       "5920  5080  2.6.2   26  1722553351  www.youtube.com   4.854927   \n",
       "\n",
       "            dst_addr       src_addr proto  af  ...  \\\n",
       "0     23.201.195.155   192.168.1.33  ICMP   4  ...   \n",
       "1       104.97.2.138  192.168.1.110  ICMP   4  ...   \n",
       "2       23.64.121.40  192.168.1.111  ICMP   4  ...   \n",
       "3       23.64.121.19  200.25.81.165  ICMP   4  ...   \n",
       "4       23.64.121.65     172.18.0.2  ICMP   4  ...   \n",
       "...              ...            ...   ...  ..  ...   \n",
       "5916   172.217.3.142   192.168.1.36  ICMP   4  ...   \n",
       "5917  192.178.56.110  192.168.100.5  ICMP   4  ...   \n",
       "5918  172.217.12.142    10.17.38.65  ICMP   4  ...   \n",
       "5919  192.178.56.238     172.18.0.2  ICMP   4  ...   \n",
       "5920   192.178.57.14   192.168.1.66  ICMP   4  ...   \n",
       "\n",
       "                                                 result  \\\n",
       "0     [{'hop': 1, 'result': [{'from': '192.168.1.1',...   \n",
       "1     [{'hop': 1, 'result': [{'from': '192.168.1.254...   \n",
       "2     [{'hop': 1, 'result': [{'from': '192.168.1.254...   \n",
       "3     [{'hop': 1, 'result': [{'from': '200.25.81.98'...   \n",
       "4     [{'hop': 1, 'result': [{'from': '172.18.0.1', ...   \n",
       "...                                                 ...   \n",
       "5916  [{'hop': 1, 'result': [{'from': '192.168.1.1',...   \n",
       "5917  [{'hop': 1, 'result': [{'x': '*'}, {'x': '*'},...   \n",
       "5918  [{'hop': 1, 'result': [{'from': '10.17.63.254'...   \n",
       "5919  [{'hop': 1, 'result': [{'from': '172.18.0.1', ...   \n",
       "5920  [{'hop': 1, 'result': [{'from': '192.168.1.254...   \n",
       "\n",
       "      destination_ip_responded    msm_id   prb_id   timestamp    msm_name  \\\n",
       "0                         True  73358277  1003249  1718344667  Traceroute   \n",
       "1                         True  73358277  1004112  1718344667  Traceroute   \n",
       "2                         True  73358277  1004979  1718344667  Traceroute   \n",
       "3                         True  73358277  1006632  1718344667  Traceroute   \n",
       "4                         True  73358277  1008340  1718344667  Traceroute   \n",
       "...                        ...       ...      ...         ...         ...   \n",
       "5916                      True  76468932  1003249  1722553351  Traceroute   \n",
       "5917                      True  76468932    60714  1722553350  Traceroute   \n",
       "5918                      True  76468932    60909  1722553351  Traceroute   \n",
       "5919                      True  76468932  1008340  1722553351  Traceroute   \n",
       "5920                      True  76468932    19709  1722553350  Traceroute   \n",
       "\n",
       "                 from        type  group_id stored_timestamp  \n",
       "0      45.238.188.144  traceroute  73358277       1718344717  \n",
       "1       189.174.31.12  traceroute  73358277       1718344706  \n",
       "2     187.173.149.178  traceroute  73358277       1718344669  \n",
       "3       200.25.81.165  traceroute  73358277       1718344668  \n",
       "4       187.155.19.64  traceroute  73358277       1718344673  \n",
       "...               ...         ...       ...              ...  \n",
       "5916   45.238.188.144  traceroute  76468932       1722553353  \n",
       "5917   177.240.30.196  traceroute  76468932       1722553424  \n",
       "5918   187.228.64.162  traceroute  76468932       1722553355  \n",
       "5919    189.176.56.21  traceroute  76468932       1722553357  \n",
       "5920  201.108.156.204  traceroute  76468932       1722553352  \n",
       "\n",
       "[5921 rows x 22 columns]"
      ]
     },
     "execution_count": 23,
     "metadata": {},
     "output_type": "execute_result"
    }
   ],
   "source": [
    "trace_results = pd.DataFrame(traces)\n",
    "trace_results "
   ]
  },
  {
   "cell_type": "markdown",
   "id": "bf9bd140-3990-4ca4-99c6-c2d7046ae92d",
   "metadata": {},
   "source": [
    "# Descripcion de los datos \n",
    "\n"
   ]
  },
  {
   "cell_type": "code",
   "execution_count": 24,
   "id": "371171ff-9b92-4ffb-8611-1c27c62cd62e",
   "metadata": {},
   "outputs": [
    {
     "data": {
      "text/html": [
       "<div>\n",
       "<style scoped>\n",
       "    .dataframe tbody tr th:only-of-type {\n",
       "        vertical-align: middle;\n",
       "    }\n",
       "\n",
       "    .dataframe tbody tr th {\n",
       "        vertical-align: top;\n",
       "    }\n",
       "\n",
       "    .dataframe thead th {\n",
       "        text-align: right;\n",
       "    }\n",
       "</style>\n",
       "<table border=\"1\" class=\"dataframe\">\n",
       "  <thead>\n",
       "    <tr style=\"text-align: right;\">\n",
       "      <th></th>\n",
       "      <th>dst_name</th>\n",
       "      <th>destination_ip_responded</th>\n",
       "      <th>conteo</th>\n",
       "    </tr>\n",
       "  </thead>\n",
       "  <tbody>\n",
       "    <tr>\n",
       "      <th>0</th>\n",
       "      <td>www.meta.com</td>\n",
       "      <td>False</td>\n",
       "      <td>3</td>\n",
       "    </tr>\n",
       "    <tr>\n",
       "      <th>1</th>\n",
       "      <td>www.meta.com</td>\n",
       "      <td>True</td>\n",
       "      <td>1503</td>\n",
       "    </tr>\n",
       "    <tr>\n",
       "      <th>2</th>\n",
       "      <td>www.tiktok.com</td>\n",
       "      <td>False</td>\n",
       "      <td>2</td>\n",
       "    </tr>\n",
       "    <tr>\n",
       "      <th>3</th>\n",
       "      <td>www.tiktok.com</td>\n",
       "      <td>True</td>\n",
       "      <td>2908</td>\n",
       "    </tr>\n",
       "    <tr>\n",
       "      <th>4</th>\n",
       "      <td>www.youtube.com</td>\n",
       "      <td>False</td>\n",
       "      <td>3</td>\n",
       "    </tr>\n",
       "    <tr>\n",
       "      <th>5</th>\n",
       "      <td>www.youtube.com</td>\n",
       "      <td>True</td>\n",
       "      <td>1502</td>\n",
       "    </tr>\n",
       "  </tbody>\n",
       "</table>\n",
       "</div>"
      ],
      "text/plain": [
       "          dst_name  destination_ip_responded  conteo\n",
       "0     www.meta.com                     False       3\n",
       "1     www.meta.com                      True    1503\n",
       "2   www.tiktok.com                     False       2\n",
       "3   www.tiktok.com                      True    2908\n",
       "4  www.youtube.com                     False       3\n",
       "5  www.youtube.com                      True    1502"
      ]
     },
     "execution_count": 24,
     "metadata": {},
     "output_type": "execute_result"
    }
   ],
   "source": [
    "trace_results.groupby(['dst_name','destination_ip_responded']).size().reset_index(name=\"conteo\")"
   ]
  },
  {
   "cell_type": "code",
   "execution_count": 25,
   "id": "8fe6d821-4738-4765-9226-212e98a8d946",
   "metadata": {},
   "outputs": [
    {
     "data": {
      "text/html": [
       "<div>\n",
       "<style scoped>\n",
       "    .dataframe tbody tr th:only-of-type {\n",
       "        vertical-align: middle;\n",
       "    }\n",
       "\n",
       "    .dataframe tbody tr th {\n",
       "        vertical-align: top;\n",
       "    }\n",
       "\n",
       "    .dataframe thead th {\n",
       "        text-align: right;\n",
       "    }\n",
       "</style>\n",
       "<table border=\"1\" class=\"dataframe\">\n",
       "  <thead>\n",
       "    <tr style=\"text-align: right;\">\n",
       "      <th></th>\n",
       "      <th>dst_name</th>\n",
       "      <th>dst_addr</th>\n",
       "      <th>destination_ip_responded</th>\n",
       "      <th>conteo</th>\n",
       "    </tr>\n",
       "  </thead>\n",
       "  <tbody>\n",
       "    <tr>\n",
       "      <th>0</th>\n",
       "      <td>www.meta.com</td>\n",
       "      <td>157.240.14.15</td>\n",
       "      <td>True</td>\n",
       "      <td>12</td>\n",
       "    </tr>\n",
       "    <tr>\n",
       "      <th>1</th>\n",
       "      <td>www.meta.com</td>\n",
       "      <td>157.240.19.19</td>\n",
       "      <td>True</td>\n",
       "      <td>129</td>\n",
       "    </tr>\n",
       "    <tr>\n",
       "      <th>2</th>\n",
       "      <td>www.meta.com</td>\n",
       "      <td>157.240.201.17</td>\n",
       "      <td>True</td>\n",
       "      <td>3</td>\n",
       "    </tr>\n",
       "    <tr>\n",
       "      <th>3</th>\n",
       "      <td>www.meta.com</td>\n",
       "      <td>157.240.214.1</td>\n",
       "      <td>True</td>\n",
       "      <td>52</td>\n",
       "    </tr>\n",
       "    <tr>\n",
       "      <th>4</th>\n",
       "      <td>www.meta.com</td>\n",
       "      <td>157.240.221.18</td>\n",
       "      <td>True</td>\n",
       "      <td>19</td>\n",
       "    </tr>\n",
       "    <tr>\n",
       "      <th>...</th>\n",
       "      <td>...</td>\n",
       "      <td>...</td>\n",
       "      <td>...</td>\n",
       "      <td>...</td>\n",
       "    </tr>\n",
       "    <tr>\n",
       "      <th>639</th>\n",
       "      <td>www.youtube.com</td>\n",
       "      <td>216.58.201.110</td>\n",
       "      <td>True</td>\n",
       "      <td>6</td>\n",
       "    </tr>\n",
       "    <tr>\n",
       "      <th>640</th>\n",
       "      <td>www.youtube.com</td>\n",
       "      <td>216.58.204.78</td>\n",
       "      <td>True</td>\n",
       "      <td>10</td>\n",
       "    </tr>\n",
       "    <tr>\n",
       "      <th>641</th>\n",
       "      <td>www.youtube.com</td>\n",
       "      <td>216.58.212.206</td>\n",
       "      <td>True</td>\n",
       "      <td>6</td>\n",
       "    </tr>\n",
       "    <tr>\n",
       "      <th>642</th>\n",
       "      <td>www.youtube.com</td>\n",
       "      <td>216.58.212.238</td>\n",
       "      <td>True</td>\n",
       "      <td>2</td>\n",
       "    </tr>\n",
       "    <tr>\n",
       "      <th>643</th>\n",
       "      <td>www.youtube.com</td>\n",
       "      <td>216.58.213.14</td>\n",
       "      <td>True</td>\n",
       "      <td>5</td>\n",
       "    </tr>\n",
       "  </tbody>\n",
       "</table>\n",
       "<p>644 rows × 4 columns</p>\n",
       "</div>"
      ],
      "text/plain": [
       "            dst_name        dst_addr  destination_ip_responded  conteo\n",
       "0       www.meta.com   157.240.14.15                      True      12\n",
       "1       www.meta.com   157.240.19.19                      True     129\n",
       "2       www.meta.com  157.240.201.17                      True       3\n",
       "3       www.meta.com   157.240.214.1                      True      52\n",
       "4       www.meta.com  157.240.221.18                      True      19\n",
       "..               ...             ...                       ...     ...\n",
       "639  www.youtube.com  216.58.201.110                      True       6\n",
       "640  www.youtube.com   216.58.204.78                      True      10\n",
       "641  www.youtube.com  216.58.212.206                      True       6\n",
       "642  www.youtube.com  216.58.212.238                      True       2\n",
       "643  www.youtube.com   216.58.213.14                      True       5\n",
       "\n",
       "[644 rows x 4 columns]"
      ]
     },
     "execution_count": 25,
     "metadata": {},
     "output_type": "execute_result"
    }
   ],
   "source": [
    "trace_results.groupby(['dst_name','dst_addr','destination_ip_responded']).size().reset_index(name=\"conteo\")"
   ]
  },
  {
   "cell_type": "code",
   "execution_count": 26,
   "id": "173bc3fb-02aa-4dd8-a06f-41ebff1c06b0",
   "metadata": {},
   "outputs": [
    {
     "data": {
      "text/html": [
       "<div>\n",
       "<style scoped>\n",
       "    .dataframe tbody tr th:only-of-type {\n",
       "        vertical-align: middle;\n",
       "    }\n",
       "\n",
       "    .dataframe tbody tr th {\n",
       "        vertical-align: top;\n",
       "    }\n",
       "\n",
       "    .dataframe thead th {\n",
       "        text-align: right;\n",
       "    }\n",
       "</style>\n",
       "<table border=\"1\" class=\"dataframe\">\n",
       "  <thead>\n",
       "    <tr style=\"text-align: right;\">\n",
       "      <th></th>\n",
       "      <th>count</th>\n",
       "      <th>mean</th>\n",
       "      <th>std</th>\n",
       "      <th>min</th>\n",
       "      <th>25%</th>\n",
       "      <th>50%</th>\n",
       "      <th>75%</th>\n",
       "      <th>max</th>\n",
       "    </tr>\n",
       "    <tr>\n",
       "      <th>dst_name</th>\n",
       "      <th></th>\n",
       "      <th></th>\n",
       "      <th></th>\n",
       "      <th></th>\n",
       "      <th></th>\n",
       "      <th></th>\n",
       "      <th></th>\n",
       "      <th></th>\n",
       "    </tr>\n",
       "  </thead>\n",
       "  <tbody>\n",
       "    <tr>\n",
       "      <th>www.meta.com</th>\n",
       "      <td>1357.0</td>\n",
       "      <td>78.011834</td>\n",
       "      <td>664.497135</td>\n",
       "      <td>0.550378</td>\n",
       "      <td>8.258384</td>\n",
       "      <td>25.064957</td>\n",
       "      <td>59.872687</td>\n",
       "      <td>14994.956034</td>\n",
       "    </tr>\n",
       "    <tr>\n",
       "      <th>www.tiktok.com</th>\n",
       "      <td>2603.0</td>\n",
       "      <td>81.472701</td>\n",
       "      <td>543.307398</td>\n",
       "      <td>0.225437</td>\n",
       "      <td>7.000468</td>\n",
       "      <td>22.586860</td>\n",
       "      <td>60.142490</td>\n",
       "      <td>14996.732647</td>\n",
       "    </tr>\n",
       "    <tr>\n",
       "      <th>www.youtube.com</th>\n",
       "      <td>1360.0</td>\n",
       "      <td>165.818448</td>\n",
       "      <td>1025.947486</td>\n",
       "      <td>0.234225</td>\n",
       "      <td>5.128672</td>\n",
       "      <td>9.911909</td>\n",
       "      <td>28.756346</td>\n",
       "      <td>14992.607067</td>\n",
       "    </tr>\n",
       "  </tbody>\n",
       "</table>\n",
       "</div>"
      ],
      "text/plain": [
       "                  count        mean          std       min       25%  \\\n",
       "dst_name                                                               \n",
       "www.meta.com     1357.0   78.011834   664.497135  0.550378  8.258384   \n",
       "www.tiktok.com   2603.0   81.472701   543.307398  0.225437  7.000468   \n",
       "www.youtube.com  1360.0  165.818448  1025.947486  0.234225  5.128672   \n",
       "\n",
       "                       50%        75%           max  \n",
       "dst_name                                             \n",
       "www.meta.com     25.064957  59.872687  14994.956034  \n",
       "www.tiktok.com   22.586860  60.142490  14996.732647  \n",
       "www.youtube.com   9.911909  28.756346  14992.607067  "
      ]
     },
     "execution_count": 26,
     "metadata": {},
     "output_type": "execute_result"
    }
   ],
   "source": [
    "trace_results.groupby([\"dst_name\"])[\"ttr\"].describe()\n"
   ]
  },
  {
   "cell_type": "code",
   "execution_count": null,
   "id": "5c79831a-0d31-4046-8c7a-82426476dd96",
   "metadata": {},
   "outputs": [],
   "source": []
  },
  {
   "cell_type": "code",
   "execution_count": 27,
   "id": "449d3f32-81ef-4f19-a001-a40429267cf9",
   "metadata": {},
   "outputs": [],
   "source": [
    "# contando el numero de hops por ruta\n",
    "def count_hops(trace):\n",
    "    return len(trace)\n"
   ]
  },
  {
   "cell_type": "code",
   "execution_count": 28,
   "id": "90c760af-abc1-4ca9-b504-b38136eeb8f3",
   "metadata": {},
   "outputs": [],
   "source": [
    "trace_results['hops'] = trace_results['result'].apply(count_hops)"
   ]
  },
  {
   "cell_type": "code",
   "execution_count": 29,
   "id": "a579bd1d-fadc-4ec5-85d9-01f709291202",
   "metadata": {},
   "outputs": [
    {
     "data": {
      "text/html": [
       "<div>\n",
       "<style scoped>\n",
       "    .dataframe tbody tr th:only-of-type {\n",
       "        vertical-align: middle;\n",
       "    }\n",
       "\n",
       "    .dataframe tbody tr th {\n",
       "        vertical-align: top;\n",
       "    }\n",
       "\n",
       "    .dataframe thead th {\n",
       "        text-align: right;\n",
       "    }\n",
       "</style>\n",
       "<table border=\"1\" class=\"dataframe\">\n",
       "  <thead>\n",
       "    <tr style=\"text-align: right;\">\n",
       "      <th></th>\n",
       "      <th>fw</th>\n",
       "      <th>mver</th>\n",
       "      <th>lts</th>\n",
       "      <th>endtime</th>\n",
       "      <th>dst_name</th>\n",
       "      <th>ttr</th>\n",
       "      <th>dst_addr</th>\n",
       "      <th>src_addr</th>\n",
       "      <th>proto</th>\n",
       "      <th>af</th>\n",
       "      <th>...</th>\n",
       "      <th>destination_ip_responded</th>\n",
       "      <th>msm_id</th>\n",
       "      <th>prb_id</th>\n",
       "      <th>timestamp</th>\n",
       "      <th>msm_name</th>\n",
       "      <th>from</th>\n",
       "      <th>type</th>\n",
       "      <th>group_id</th>\n",
       "      <th>stored_timestamp</th>\n",
       "      <th>hops</th>\n",
       "    </tr>\n",
       "  </thead>\n",
       "  <tbody>\n",
       "    <tr>\n",
       "      <th>0</th>\n",
       "      <td>5040</td>\n",
       "      <td>2.4.1</td>\n",
       "      <td>37</td>\n",
       "      <td>1718344716</td>\n",
       "      <td>www.tiktok.com</td>\n",
       "      <td>59.570485</td>\n",
       "      <td>23.201.195.155</td>\n",
       "      <td>192.168.1.33</td>\n",
       "      <td>ICMP</td>\n",
       "      <td>4</td>\n",
       "      <td>...</td>\n",
       "      <td>True</td>\n",
       "      <td>73358277</td>\n",
       "      <td>1003249</td>\n",
       "      <td>1718344667</td>\n",
       "      <td>Traceroute</td>\n",
       "      <td>45.238.188.144</td>\n",
       "      <td>traceroute</td>\n",
       "      <td>73358277</td>\n",
       "      <td>1718344717</td>\n",
       "      <td>11</td>\n",
       "    </tr>\n",
       "    <tr>\n",
       "      <th>1</th>\n",
       "      <td>5060</td>\n",
       "      <td>2.5.1</td>\n",
       "      <td>3</td>\n",
       "      <td>1718344705</td>\n",
       "      <td>www.tiktok.com</td>\n",
       "      <td>83.953238</td>\n",
       "      <td>104.97.2.138</td>\n",
       "      <td>192.168.1.110</td>\n",
       "      <td>ICMP</td>\n",
       "      <td>4</td>\n",
       "      <td>...</td>\n",
       "      <td>True</td>\n",
       "      <td>73358277</td>\n",
       "      <td>1004112</td>\n",
       "      <td>1718344667</td>\n",
       "      <td>Traceroute</td>\n",
       "      <td>189.174.31.12</td>\n",
       "      <td>traceroute</td>\n",
       "      <td>73358277</td>\n",
       "      <td>1718344706</td>\n",
       "      <td>15</td>\n",
       "    </tr>\n",
       "    <tr>\n",
       "      <th>2</th>\n",
       "      <td>5080</td>\n",
       "      <td>2.6.2</td>\n",
       "      <td>4</td>\n",
       "      <td>1718344668</td>\n",
       "      <td>www.tiktok.com</td>\n",
       "      <td>7.962550</td>\n",
       "      <td>23.64.121.40</td>\n",
       "      <td>192.168.1.111</td>\n",
       "      <td>ICMP</td>\n",
       "      <td>4</td>\n",
       "      <td>...</td>\n",
       "      <td>True</td>\n",
       "      <td>73358277</td>\n",
       "      <td>1004979</td>\n",
       "      <td>1718344667</td>\n",
       "      <td>Traceroute</td>\n",
       "      <td>187.173.149.178</td>\n",
       "      <td>traceroute</td>\n",
       "      <td>73358277</td>\n",
       "      <td>1718344669</td>\n",
       "      <td>6</td>\n",
       "    </tr>\n",
       "    <tr>\n",
       "      <th>3</th>\n",
       "      <td>5080</td>\n",
       "      <td>2.6.2</td>\n",
       "      <td>24</td>\n",
       "      <td>1718344667</td>\n",
       "      <td>www.tiktok.com</td>\n",
       "      <td>0.874699</td>\n",
       "      <td>23.64.121.19</td>\n",
       "      <td>200.25.81.165</td>\n",
       "      <td>ICMP</td>\n",
       "      <td>4</td>\n",
       "      <td>...</td>\n",
       "      <td>True</td>\n",
       "      <td>73358277</td>\n",
       "      <td>1006632</td>\n",
       "      <td>1718344667</td>\n",
       "      <td>Traceroute</td>\n",
       "      <td>200.25.81.165</td>\n",
       "      <td>traceroute</td>\n",
       "      <td>73358277</td>\n",
       "      <td>1718344668</td>\n",
       "      <td>6</td>\n",
       "    </tr>\n",
       "    <tr>\n",
       "      <th>4</th>\n",
       "      <td>5080</td>\n",
       "      <td>2.6.2</td>\n",
       "      <td>6</td>\n",
       "      <td>1718344672</td>\n",
       "      <td>www.tiktok.com</td>\n",
       "      <td>4.594371</td>\n",
       "      <td>23.64.121.65</td>\n",
       "      <td>172.18.0.2</td>\n",
       "      <td>ICMP</td>\n",
       "      <td>4</td>\n",
       "      <td>...</td>\n",
       "      <td>True</td>\n",
       "      <td>73358277</td>\n",
       "      <td>1008340</td>\n",
       "      <td>1718344667</td>\n",
       "      <td>Traceroute</td>\n",
       "      <td>187.155.19.64</td>\n",
       "      <td>traceroute</td>\n",
       "      <td>73358277</td>\n",
       "      <td>1718344673</td>\n",
       "      <td>7</td>\n",
       "    </tr>\n",
       "    <tr>\n",
       "      <th>...</th>\n",
       "      <td>...</td>\n",
       "      <td>...</td>\n",
       "      <td>...</td>\n",
       "      <td>...</td>\n",
       "      <td>...</td>\n",
       "      <td>...</td>\n",
       "      <td>...</td>\n",
       "      <td>...</td>\n",
       "      <td>...</td>\n",
       "      <td>...</td>\n",
       "      <td>...</td>\n",
       "      <td>...</td>\n",
       "      <td>...</td>\n",
       "      <td>...</td>\n",
       "      <td>...</td>\n",
       "      <td>...</td>\n",
       "      <td>...</td>\n",
       "      <td>...</td>\n",
       "      <td>...</td>\n",
       "      <td>...</td>\n",
       "      <td>...</td>\n",
       "    </tr>\n",
       "    <tr>\n",
       "      <th>5916</th>\n",
       "      <td>5040</td>\n",
       "      <td>2.4.1</td>\n",
       "      <td>34</td>\n",
       "      <td>1722553352</td>\n",
       "      <td>www.youtube.com</td>\n",
       "      <td>34.101434</td>\n",
       "      <td>172.217.3.142</td>\n",
       "      <td>192.168.1.36</td>\n",
       "      <td>ICMP</td>\n",
       "      <td>4</td>\n",
       "      <td>...</td>\n",
       "      <td>True</td>\n",
       "      <td>76468932</td>\n",
       "      <td>1003249</td>\n",
       "      <td>1722553351</td>\n",
       "      <td>Traceroute</td>\n",
       "      <td>45.238.188.144</td>\n",
       "      <td>traceroute</td>\n",
       "      <td>76468932</td>\n",
       "      <td>1722553353</td>\n",
       "      <td>9</td>\n",
       "    </tr>\n",
       "    <tr>\n",
       "      <th>5917</th>\n",
       "      <td>5080</td>\n",
       "      <td>2.6.2</td>\n",
       "      <td>11</td>\n",
       "      <td>1722553423</td>\n",
       "      <td>www.youtube.com</td>\n",
       "      <td>32.525437</td>\n",
       "      <td>192.178.56.110</td>\n",
       "      <td>192.168.100.5</td>\n",
       "      <td>ICMP</td>\n",
       "      <td>4</td>\n",
       "      <td>...</td>\n",
       "      <td>True</td>\n",
       "      <td>76468932</td>\n",
       "      <td>60714</td>\n",
       "      <td>1722553350</td>\n",
       "      <td>Traceroute</td>\n",
       "      <td>177.240.30.196</td>\n",
       "      <td>traceroute</td>\n",
       "      <td>76468932</td>\n",
       "      <td>1722553424</td>\n",
       "      <td>15</td>\n",
       "    </tr>\n",
       "    <tr>\n",
       "      <th>5918</th>\n",
       "      <td>5080</td>\n",
       "      <td>2.6.2</td>\n",
       "      <td>18</td>\n",
       "      <td>1722553354</td>\n",
       "      <td>www.youtube.com</td>\n",
       "      <td>1.917643</td>\n",
       "      <td>172.217.12.142</td>\n",
       "      <td>10.17.38.65</td>\n",
       "      <td>ICMP</td>\n",
       "      <td>4</td>\n",
       "      <td>...</td>\n",
       "      <td>True</td>\n",
       "      <td>76468932</td>\n",
       "      <td>60909</td>\n",
       "      <td>1722553351</td>\n",
       "      <td>Traceroute</td>\n",
       "      <td>187.228.64.162</td>\n",
       "      <td>traceroute</td>\n",
       "      <td>76468932</td>\n",
       "      <td>1722553355</td>\n",
       "      <td>13</td>\n",
       "    </tr>\n",
       "    <tr>\n",
       "      <th>5919</th>\n",
       "      <td>5080</td>\n",
       "      <td>2.6.2</td>\n",
       "      <td>5</td>\n",
       "      <td>1722553356</td>\n",
       "      <td>www.youtube.com</td>\n",
       "      <td>9.261933</td>\n",
       "      <td>192.178.56.238</td>\n",
       "      <td>172.18.0.2</td>\n",
       "      <td>ICMP</td>\n",
       "      <td>4</td>\n",
       "      <td>...</td>\n",
       "      <td>True</td>\n",
       "      <td>76468932</td>\n",
       "      <td>1008340</td>\n",
       "      <td>1722553351</td>\n",
       "      <td>Traceroute</td>\n",
       "      <td>189.176.56.21</td>\n",
       "      <td>traceroute</td>\n",
       "      <td>76468932</td>\n",
       "      <td>1722553357</td>\n",
       "      <td>8</td>\n",
       "    </tr>\n",
       "    <tr>\n",
       "      <th>5920</th>\n",
       "      <td>5080</td>\n",
       "      <td>2.6.2</td>\n",
       "      <td>26</td>\n",
       "      <td>1722553351</td>\n",
       "      <td>www.youtube.com</td>\n",
       "      <td>4.854927</td>\n",
       "      <td>192.178.57.14</td>\n",
       "      <td>192.168.1.66</td>\n",
       "      <td>ICMP</td>\n",
       "      <td>4</td>\n",
       "      <td>...</td>\n",
       "      <td>True</td>\n",
       "      <td>76468932</td>\n",
       "      <td>19709</td>\n",
       "      <td>1722553350</td>\n",
       "      <td>Traceroute</td>\n",
       "      <td>201.108.156.204</td>\n",
       "      <td>traceroute</td>\n",
       "      <td>76468932</td>\n",
       "      <td>1722553352</td>\n",
       "      <td>7</td>\n",
       "    </tr>\n",
       "  </tbody>\n",
       "</table>\n",
       "<p>5921 rows × 23 columns</p>\n",
       "</div>"
      ],
      "text/plain": [
       "        fw   mver  lts     endtime         dst_name        ttr  \\\n",
       "0     5040  2.4.1   37  1718344716   www.tiktok.com  59.570485   \n",
       "1     5060  2.5.1    3  1718344705   www.tiktok.com  83.953238   \n",
       "2     5080  2.6.2    4  1718344668   www.tiktok.com   7.962550   \n",
       "3     5080  2.6.2   24  1718344667   www.tiktok.com   0.874699   \n",
       "4     5080  2.6.2    6  1718344672   www.tiktok.com   4.594371   \n",
       "...    ...    ...  ...         ...              ...        ...   \n",
       "5916  5040  2.4.1   34  1722553352  www.youtube.com  34.101434   \n",
       "5917  5080  2.6.2   11  1722553423  www.youtube.com  32.525437   \n",
       "5918  5080  2.6.2   18  1722553354  www.youtube.com   1.917643   \n",
       "5919  5080  2.6.2    5  1722553356  www.youtube.com   9.261933   \n",
       "5920  5080  2.6.2   26  1722553351  www.youtube.com   4.854927   \n",
       "\n",
       "            dst_addr       src_addr proto  af  ...  destination_ip_responded  \\\n",
       "0     23.201.195.155   192.168.1.33  ICMP   4  ...                      True   \n",
       "1       104.97.2.138  192.168.1.110  ICMP   4  ...                      True   \n",
       "2       23.64.121.40  192.168.1.111  ICMP   4  ...                      True   \n",
       "3       23.64.121.19  200.25.81.165  ICMP   4  ...                      True   \n",
       "4       23.64.121.65     172.18.0.2  ICMP   4  ...                      True   \n",
       "...              ...            ...   ...  ..  ...                       ...   \n",
       "5916   172.217.3.142   192.168.1.36  ICMP   4  ...                      True   \n",
       "5917  192.178.56.110  192.168.100.5  ICMP   4  ...                      True   \n",
       "5918  172.217.12.142    10.17.38.65  ICMP   4  ...                      True   \n",
       "5919  192.178.56.238     172.18.0.2  ICMP   4  ...                      True   \n",
       "5920   192.178.57.14   192.168.1.66  ICMP   4  ...                      True   \n",
       "\n",
       "        msm_id   prb_id   timestamp    msm_name             from        type  \\\n",
       "0     73358277  1003249  1718344667  Traceroute   45.238.188.144  traceroute   \n",
       "1     73358277  1004112  1718344667  Traceroute    189.174.31.12  traceroute   \n",
       "2     73358277  1004979  1718344667  Traceroute  187.173.149.178  traceroute   \n",
       "3     73358277  1006632  1718344667  Traceroute    200.25.81.165  traceroute   \n",
       "4     73358277  1008340  1718344667  Traceroute    187.155.19.64  traceroute   \n",
       "...        ...      ...         ...         ...              ...         ...   \n",
       "5916  76468932  1003249  1722553351  Traceroute   45.238.188.144  traceroute   \n",
       "5917  76468932    60714  1722553350  Traceroute   177.240.30.196  traceroute   \n",
       "5918  76468932    60909  1722553351  Traceroute   187.228.64.162  traceroute   \n",
       "5919  76468932  1008340  1722553351  Traceroute    189.176.56.21  traceroute   \n",
       "5920  76468932    19709  1722553350  Traceroute  201.108.156.204  traceroute   \n",
       "\n",
       "      group_id stored_timestamp hops  \n",
       "0     73358277       1718344717   11  \n",
       "1     73358277       1718344706   15  \n",
       "2     73358277       1718344669    6  \n",
       "3     73358277       1718344668    6  \n",
       "4     73358277       1718344673    7  \n",
       "...        ...              ...  ...  \n",
       "5916  76468932       1722553353    9  \n",
       "5917  76468932       1722553424   15  \n",
       "5918  76468932       1722553355   13  \n",
       "5919  76468932       1722553357    8  \n",
       "5920  76468932       1722553352    7  \n",
       "\n",
       "[5921 rows x 23 columns]"
      ]
     },
     "execution_count": 29,
     "metadata": {},
     "output_type": "execute_result"
    }
   ],
   "source": [
    "trace_results"
   ]
  },
  {
   "cell_type": "code",
   "execution_count": 53,
   "id": "8c07ed6c-faac-4ffd-aafe-7d396e3b080c",
   "metadata": {},
   "outputs": [
    {
     "data": {
      "text/html": [
       "<div>\n",
       "<style scoped>\n",
       "    .dataframe tbody tr th:only-of-type {\n",
       "        vertical-align: middle;\n",
       "    }\n",
       "\n",
       "    .dataframe tbody tr th {\n",
       "        vertical-align: top;\n",
       "    }\n",
       "\n",
       "    .dataframe thead th {\n",
       "        text-align: right;\n",
       "    }\n",
       "</style>\n",
       "<table border=\"1\" class=\"dataframe\">\n",
       "  <thead>\n",
       "    <tr style=\"text-align: right;\">\n",
       "      <th></th>\n",
       "      <th></th>\n",
       "      <th>count</th>\n",
       "      <th>mean</th>\n",
       "      <th>std</th>\n",
       "      <th>min</th>\n",
       "      <th>25%</th>\n",
       "      <th>50%</th>\n",
       "      <th>75%</th>\n",
       "      <th>max</th>\n",
       "    </tr>\n",
       "    <tr>\n",
       "      <th>dst_name</th>\n",
       "      <th>hops</th>\n",
       "      <th></th>\n",
       "      <th></th>\n",
       "      <th></th>\n",
       "      <th></th>\n",
       "      <th></th>\n",
       "      <th></th>\n",
       "      <th></th>\n",
       "      <th></th>\n",
       "    </tr>\n",
       "  </thead>\n",
       "  <tbody>\n",
       "    <tr>\n",
       "      <th rowspan=\"17\" valign=\"top\">www.meta.com</th>\n",
       "      <th>1</th>\n",
       "      <td>2.0</td>\n",
       "      <td>14991.985578</td>\n",
       "      <td>4.200858</td>\n",
       "      <td>14989.015123</td>\n",
       "      <td>14990.500351</td>\n",
       "      <td>14991.985578</td>\n",
       "      <td>14993.470806</td>\n",
       "      <td>14994.956034</td>\n",
       "    </tr>\n",
       "    <tr>\n",
       "      <th>7</th>\n",
       "      <td>296.0</td>\n",
       "      <td>29.359789</td>\n",
       "      <td>34.346857</td>\n",
       "      <td>0.550378</td>\n",
       "      <td>6.557605</td>\n",
       "      <td>11.331551</td>\n",
       "      <td>52.856504</td>\n",
       "      <td>251.648762</td>\n",
       "    </tr>\n",
       "    <tr>\n",
       "      <th>8</th>\n",
       "      <td>27.0</td>\n",
       "      <td>12.005242</td>\n",
       "      <td>9.396858</td>\n",
       "      <td>0.636625</td>\n",
       "      <td>7.408397</td>\n",
       "      <td>9.545708</td>\n",
       "      <td>12.380320</td>\n",
       "      <td>47.256147</td>\n",
       "    </tr>\n",
       "    <tr>\n",
       "      <th>9</th>\n",
       "      <td>205.0</td>\n",
       "      <td>50.505576</td>\n",
       "      <td>27.096444</td>\n",
       "      <td>3.264946</td>\n",
       "      <td>32.782736</td>\n",
       "      <td>51.436913</td>\n",
       "      <td>54.509723</td>\n",
       "      <td>144.835569</td>\n",
       "    </tr>\n",
       "    <tr>\n",
       "      <th>10</th>\n",
       "      <td>109.0</td>\n",
       "      <td>66.775726</td>\n",
       "      <td>50.505128</td>\n",
       "      <td>4.674444</td>\n",
       "      <td>58.618143</td>\n",
       "      <td>59.568050</td>\n",
       "      <td>61.452642</td>\n",
       "      <td>452.561402</td>\n",
       "    </tr>\n",
       "    <tr>\n",
       "      <th>11</th>\n",
       "      <td>97.0</td>\n",
       "      <td>22.239473</td>\n",
       "      <td>15.113922</td>\n",
       "      <td>3.418756</td>\n",
       "      <td>18.357996</td>\n",
       "      <td>21.031668</td>\n",
       "      <td>23.600975</td>\n",
       "      <td>116.659936</td>\n",
       "    </tr>\n",
       "    <tr>\n",
       "      <th>12</th>\n",
       "      <td>154.0</td>\n",
       "      <td>21.332208</td>\n",
       "      <td>31.640390</td>\n",
       "      <td>1.739554</td>\n",
       "      <td>7.829733</td>\n",
       "      <td>9.570854</td>\n",
       "      <td>11.842398</td>\n",
       "      <td>157.701758</td>\n",
       "    </tr>\n",
       "    <tr>\n",
       "      <th>13</th>\n",
       "      <td>327.0</td>\n",
       "      <td>56.648018</td>\n",
       "      <td>67.988480</td>\n",
       "      <td>1.887537</td>\n",
       "      <td>6.030619</td>\n",
       "      <td>57.169608</td>\n",
       "      <td>87.302986</td>\n",
       "      <td>911.588463</td>\n",
       "    </tr>\n",
       "    <tr>\n",
       "      <th>14</th>\n",
       "      <td>37.0</td>\n",
       "      <td>16.077260</td>\n",
       "      <td>19.647276</td>\n",
       "      <td>3.510574</td>\n",
       "      <td>7.249412</td>\n",
       "      <td>9.046062</td>\n",
       "      <td>11.303000</td>\n",
       "      <td>79.557817</td>\n",
       "    </tr>\n",
       "    <tr>\n",
       "      <th>15</th>\n",
       "      <td>69.0</td>\n",
       "      <td>325.712689</td>\n",
       "      <td>1460.755914</td>\n",
       "      <td>3.537358</td>\n",
       "      <td>5.377064</td>\n",
       "      <td>10.331162</td>\n",
       "      <td>66.849688</td>\n",
       "      <td>10077.012552</td>\n",
       "    </tr>\n",
       "    <tr>\n",
       "      <th>16</th>\n",
       "      <td>30.0</td>\n",
       "      <td>65.031947</td>\n",
       "      <td>13.981581</td>\n",
       "      <td>56.577824</td>\n",
       "      <td>57.737299</td>\n",
       "      <td>59.038265</td>\n",
       "      <td>61.469092</td>\n",
       "      <td>107.617769</td>\n",
       "    </tr>\n",
       "    <tr>\n",
       "      <th>17</th>\n",
       "      <td>3.0</td>\n",
       "      <td>77.310981</td>\n",
       "      <td>42.503730</td>\n",
       "      <td>50.368112</td>\n",
       "      <td>52.812040</td>\n",
       "      <td>55.255968</td>\n",
       "      <td>90.782415</td>\n",
       "      <td>126.308862</td>\n",
       "    </tr>\n",
       "    <tr>\n",
       "      <th>18</th>\n",
       "      <td>0.0</td>\n",
       "      <td>NaN</td>\n",
       "      <td>NaN</td>\n",
       "      <td>NaN</td>\n",
       "      <td>NaN</td>\n",
       "      <td>NaN</td>\n",
       "      <td>NaN</td>\n",
       "      <td>NaN</td>\n",
       "    </tr>\n",
       "    <tr>\n",
       "      <th>19</th>\n",
       "      <td>0.0</td>\n",
       "      <td>NaN</td>\n",
       "      <td>NaN</td>\n",
       "      <td>NaN</td>\n",
       "      <td>NaN</td>\n",
       "      <td>NaN</td>\n",
       "      <td>NaN</td>\n",
       "      <td>NaN</td>\n",
       "    </tr>\n",
       "    <tr>\n",
       "      <th>20</th>\n",
       "      <td>0.0</td>\n",
       "      <td>NaN</td>\n",
       "      <td>NaN</td>\n",
       "      <td>NaN</td>\n",
       "      <td>NaN</td>\n",
       "      <td>NaN</td>\n",
       "      <td>NaN</td>\n",
       "      <td>NaN</td>\n",
       "    </tr>\n",
       "    <tr>\n",
       "      <th>22</th>\n",
       "      <td>1.0</td>\n",
       "      <td>13.034957</td>\n",
       "      <td>NaN</td>\n",
       "      <td>13.034957</td>\n",
       "      <td>13.034957</td>\n",
       "      <td>13.034957</td>\n",
       "      <td>13.034957</td>\n",
       "      <td>13.034957</td>\n",
       "    </tr>\n",
       "    <tr>\n",
       "      <th>23</th>\n",
       "      <td>0.0</td>\n",
       "      <td>NaN</td>\n",
       "      <td>NaN</td>\n",
       "      <td>NaN</td>\n",
       "      <td>NaN</td>\n",
       "      <td>NaN</td>\n",
       "      <td>NaN</td>\n",
       "      <td>NaN</td>\n",
       "    </tr>\n",
       "    <tr>\n",
       "      <th rowspan=\"23\" valign=\"top\">www.tiktok.com</th>\n",
       "      <th>1</th>\n",
       "      <td>2.0</td>\n",
       "      <td>14994.087368</td>\n",
       "      <td>3.740989</td>\n",
       "      <td>14991.442089</td>\n",
       "      <td>14992.764729</td>\n",
       "      <td>14994.087368</td>\n",
       "      <td>14995.410008</td>\n",
       "      <td>14996.732647</td>\n",
       "    </tr>\n",
       "    <tr>\n",
       "      <th>5</th>\n",
       "      <td>501.0</td>\n",
       "      <td>9.288426</td>\n",
       "      <td>11.176772</td>\n",
       "      <td>0.361714</td>\n",
       "      <td>6.296122</td>\n",
       "      <td>8.067090</td>\n",
       "      <td>9.513082</td>\n",
       "      <td>174.543187</td>\n",
       "    </tr>\n",
       "    <tr>\n",
       "      <th>6</th>\n",
       "      <td>597.0</td>\n",
       "      <td>8.124395</td>\n",
       "      <td>11.475800</td>\n",
       "      <td>0.225437</td>\n",
       "      <td>3.864360</td>\n",
       "      <td>6.401866</td>\n",
       "      <td>9.109555</td>\n",
       "      <td>123.743927</td>\n",
       "    </tr>\n",
       "    <tr>\n",
       "      <th>7</th>\n",
       "      <td>120.0</td>\n",
       "      <td>66.304220</td>\n",
       "      <td>461.145673</td>\n",
       "      <td>0.859604</td>\n",
       "      <td>6.003061</td>\n",
       "      <td>14.098210</td>\n",
       "      <td>31.516590</td>\n",
       "      <td>5068.404918</td>\n",
       "    </tr>\n",
       "    <tr>\n",
       "      <th>8</th>\n",
       "      <td>7.0</td>\n",
       "      <td>61.957642</td>\n",
       "      <td>1.970330</td>\n",
       "      <td>59.474375</td>\n",
       "      <td>60.457508</td>\n",
       "      <td>62.024091</td>\n",
       "      <td>63.409963</td>\n",
       "      <td>64.470090</td>\n",
       "    </tr>\n",
       "    <tr>\n",
       "      <th>9</th>\n",
       "      <td>144.0</td>\n",
       "      <td>34.375249</td>\n",
       "      <td>24.448700</td>\n",
       "      <td>1.767444</td>\n",
       "      <td>21.229791</td>\n",
       "      <td>34.369633</td>\n",
       "      <td>44.750122</td>\n",
       "      <td>159.866447</td>\n",
       "    </tr>\n",
       "    <tr>\n",
       "      <th>10</th>\n",
       "      <td>134.0</td>\n",
       "      <td>63.426727</td>\n",
       "      <td>48.170590</td>\n",
       "      <td>1.890682</td>\n",
       "      <td>58.153836</td>\n",
       "      <td>60.690430</td>\n",
       "      <td>62.455071</td>\n",
       "      <td>462.331914</td>\n",
       "    </tr>\n",
       "    <tr>\n",
       "      <th>11</th>\n",
       "      <td>131.0</td>\n",
       "      <td>58.351524</td>\n",
       "      <td>93.725390</td>\n",
       "      <td>6.210208</td>\n",
       "      <td>33.918467</td>\n",
       "      <td>58.149936</td>\n",
       "      <td>61.093110</td>\n",
       "      <td>1055.075574</td>\n",
       "    </tr>\n",
       "    <tr>\n",
       "      <th>12</th>\n",
       "      <td>63.0</td>\n",
       "      <td>550.677663</td>\n",
       "      <td>1731.980900</td>\n",
       "      <td>6.255541</td>\n",
       "      <td>56.350838</td>\n",
       "      <td>65.398992</td>\n",
       "      <td>93.829175</td>\n",
       "      <td>10093.153377</td>\n",
       "    </tr>\n",
       "    <tr>\n",
       "      <th>13</th>\n",
       "      <td>209.0</td>\n",
       "      <td>171.804876</td>\n",
       "      <td>508.113096</td>\n",
       "      <td>1.253716</td>\n",
       "      <td>57.174229</td>\n",
       "      <td>69.603772</td>\n",
       "      <td>132.688056</td>\n",
       "      <td>5061.320582</td>\n",
       "    </tr>\n",
       "    <tr>\n",
       "      <th>14</th>\n",
       "      <td>34.0</td>\n",
       "      <td>183.346185</td>\n",
       "      <td>864.162543</td>\n",
       "      <td>6.980303</td>\n",
       "      <td>11.475302</td>\n",
       "      <td>35.046959</td>\n",
       "      <td>61.800776</td>\n",
       "      <td>5072.245343</td>\n",
       "    </tr>\n",
       "    <tr>\n",
       "      <th>15</th>\n",
       "      <td>349.0</td>\n",
       "      <td>57.893438</td>\n",
       "      <td>28.322772</td>\n",
       "      <td>4.302185</td>\n",
       "      <td>52.932527</td>\n",
       "      <td>55.638859</td>\n",
       "      <td>58.282566</td>\n",
       "      <td>322.352662</td>\n",
       "    </tr>\n",
       "    <tr>\n",
       "      <th>16</th>\n",
       "      <td>48.0</td>\n",
       "      <td>74.649019</td>\n",
       "      <td>64.449142</td>\n",
       "      <td>1.809610</td>\n",
       "      <td>53.274004</td>\n",
       "      <td>60.732371</td>\n",
       "      <td>74.550247</td>\n",
       "      <td>347.200271</td>\n",
       "    </tr>\n",
       "    <tr>\n",
       "      <th>17</th>\n",
       "      <td>238.0</td>\n",
       "      <td>172.587923</td>\n",
       "      <td>172.968526</td>\n",
       "      <td>1.147358</td>\n",
       "      <td>81.848367</td>\n",
       "      <td>105.361143</td>\n",
       "      <td>263.453395</td>\n",
       "      <td>1325.169057</td>\n",
       "    </tr>\n",
       "    <tr>\n",
       "      <th>18</th>\n",
       "      <td>5.0</td>\n",
       "      <td>46.495317</td>\n",
       "      <td>11.984715</td>\n",
       "      <td>30.356952</td>\n",
       "      <td>37.091717</td>\n",
       "      <td>52.871895</td>\n",
       "      <td>55.258784</td>\n",
       "      <td>56.897237</td>\n",
       "    </tr>\n",
       "    <tr>\n",
       "      <th>19</th>\n",
       "      <td>1.0</td>\n",
       "      <td>6.896286</td>\n",
       "      <td>NaN</td>\n",
       "      <td>6.896286</td>\n",
       "      <td>6.896286</td>\n",
       "      <td>6.896286</td>\n",
       "      <td>6.896286</td>\n",
       "      <td>6.896286</td>\n",
       "    </tr>\n",
       "    <tr>\n",
       "      <th>20</th>\n",
       "      <td>3.0</td>\n",
       "      <td>42.573812</td>\n",
       "      <td>12.344640</td>\n",
       "      <td>35.277334</td>\n",
       "      <td>35.447307</td>\n",
       "      <td>35.617279</td>\n",
       "      <td>46.222051</td>\n",
       "      <td>56.826823</td>\n",
       "    </tr>\n",
       "    <tr>\n",
       "      <th>21</th>\n",
       "      <td>6.0</td>\n",
       "      <td>56.636132</td>\n",
       "      <td>14.528932</td>\n",
       "      <td>31.376803</td>\n",
       "      <td>54.504646</td>\n",
       "      <td>57.398752</td>\n",
       "      <td>63.038879</td>\n",
       "      <td>75.183622</td>\n",
       "    </tr>\n",
       "    <tr>\n",
       "      <th>22</th>\n",
       "      <td>0.0</td>\n",
       "      <td>NaN</td>\n",
       "      <td>NaN</td>\n",
       "      <td>NaN</td>\n",
       "      <td>NaN</td>\n",
       "      <td>NaN</td>\n",
       "      <td>NaN</td>\n",
       "      <td>NaN</td>\n",
       "    </tr>\n",
       "    <tr>\n",
       "      <th>24</th>\n",
       "      <td>2.0</td>\n",
       "      <td>69.473686</td>\n",
       "      <td>21.656035</td>\n",
       "      <td>54.160556</td>\n",
       "      <td>61.817121</td>\n",
       "      <td>69.473686</td>\n",
       "      <td>77.130250</td>\n",
       "      <td>84.786815</td>\n",
       "    </tr>\n",
       "    <tr>\n",
       "      <th>25</th>\n",
       "      <td>5.0</td>\n",
       "      <td>62.263156</td>\n",
       "      <td>13.961584</td>\n",
       "      <td>53.235326</td>\n",
       "      <td>53.235920</td>\n",
       "      <td>55.810661</td>\n",
       "      <td>62.795895</td>\n",
       "      <td>86.237979</td>\n",
       "    </tr>\n",
       "    <tr>\n",
       "      <th>27</th>\n",
       "      <td>2.0</td>\n",
       "      <td>84.250290</td>\n",
       "      <td>32.444267</td>\n",
       "      <td>61.308728</td>\n",
       "      <td>72.779509</td>\n",
       "      <td>84.250290</td>\n",
       "      <td>95.721070</td>\n",
       "      <td>107.191851</td>\n",
       "    </tr>\n",
       "    <tr>\n",
       "      <th>28</th>\n",
       "      <td>2.0</td>\n",
       "      <td>37.389769</td>\n",
       "      <td>0.891556</td>\n",
       "      <td>36.759344</td>\n",
       "      <td>37.074556</td>\n",
       "      <td>37.389769</td>\n",
       "      <td>37.704981</td>\n",
       "      <td>38.020194</td>\n",
       "    </tr>\n",
       "    <tr>\n",
       "      <th rowspan=\"15\" valign=\"top\">www.youtube.com</th>\n",
       "      <th>1</th>\n",
       "      <td>2.0</td>\n",
       "      <td>14992.521503</td>\n",
       "      <td>0.121006</td>\n",
       "      <td>14992.435939</td>\n",
       "      <td>14992.478721</td>\n",
       "      <td>14992.521503</td>\n",
       "      <td>14992.564285</td>\n",
       "      <td>14992.607067</td>\n",
       "    </tr>\n",
       "    <tr>\n",
       "      <th>7</th>\n",
       "      <td>485.0</td>\n",
       "      <td>22.087640</td>\n",
       "      <td>226.900766</td>\n",
       "      <td>0.361115</td>\n",
       "      <td>5.721603</td>\n",
       "      <td>8.002494</td>\n",
       "      <td>12.583123</td>\n",
       "      <td>5004.158897</td>\n",
       "    </tr>\n",
       "    <tr>\n",
       "      <th>8</th>\n",
       "      <td>292.0</td>\n",
       "      <td>16.969272</td>\n",
       "      <td>19.087225</td>\n",
       "      <td>1.115705</td>\n",
       "      <td>5.834763</td>\n",
       "      <td>10.169902</td>\n",
       "      <td>21.661138</td>\n",
       "      <td>133.645541</td>\n",
       "    </tr>\n",
       "    <tr>\n",
       "      <th>9</th>\n",
       "      <td>317.0</td>\n",
       "      <td>394.585779</td>\n",
       "      <td>1267.949303</td>\n",
       "      <td>1.180030</td>\n",
       "      <td>25.680345</td>\n",
       "      <td>33.828573</td>\n",
       "      <td>62.121110</td>\n",
       "      <td>5051.716408</td>\n",
       "    </tr>\n",
       "    <tr>\n",
       "      <th>10</th>\n",
       "      <td>15.0</td>\n",
       "      <td>14.244889</td>\n",
       "      <td>35.914398</td>\n",
       "      <td>1.921088</td>\n",
       "      <td>4.954495</td>\n",
       "      <td>5.186481</td>\n",
       "      <td>5.408849</td>\n",
       "      <td>144.014123</td>\n",
       "    </tr>\n",
       "    <tr>\n",
       "      <th>11</th>\n",
       "      <td>1.0</td>\n",
       "      <td>4.645165</td>\n",
       "      <td>NaN</td>\n",
       "      <td>4.645165</td>\n",
       "      <td>4.645165</td>\n",
       "      <td>4.645165</td>\n",
       "      <td>4.645165</td>\n",
       "      <td>4.645165</td>\n",
       "    </tr>\n",
       "    <tr>\n",
       "      <th>12</th>\n",
       "      <td>10.0</td>\n",
       "      <td>8.465329</td>\n",
       "      <td>10.007400</td>\n",
       "      <td>1.851873</td>\n",
       "      <td>2.064019</td>\n",
       "      <td>2.336251</td>\n",
       "      <td>15.594041</td>\n",
       "      <td>28.670355</td>\n",
       "    </tr>\n",
       "    <tr>\n",
       "      <th>13</th>\n",
       "      <td>70.0</td>\n",
       "      <td>101.145499</td>\n",
       "      <td>274.299114</td>\n",
       "      <td>1.245155</td>\n",
       "      <td>1.910445</td>\n",
       "      <td>3.107566</td>\n",
       "      <td>143.283982</td>\n",
       "      <td>1748.346932</td>\n",
       "    </tr>\n",
       "    <tr>\n",
       "      <th>14</th>\n",
       "      <td>78.0</td>\n",
       "      <td>0.472130</td>\n",
       "      <td>0.339992</td>\n",
       "      <td>0.234225</td>\n",
       "      <td>0.303737</td>\n",
       "      <td>0.369076</td>\n",
       "      <td>0.446583</td>\n",
       "      <td>1.980353</td>\n",
       "    </tr>\n",
       "    <tr>\n",
       "      <th>15</th>\n",
       "      <td>32.0</td>\n",
       "      <td>1293.432739</td>\n",
       "      <td>3363.853623</td>\n",
       "      <td>0.333581</td>\n",
       "      <td>34.095262</td>\n",
       "      <td>40.635062</td>\n",
       "      <td>49.095363</td>\n",
       "      <td>10090.984323</td>\n",
       "    </tr>\n",
       "    <tr>\n",
       "      <th>16</th>\n",
       "      <td>29.0</td>\n",
       "      <td>202.475236</td>\n",
       "      <td>928.024524</td>\n",
       "      <td>0.328458</td>\n",
       "      <td>31.842155</td>\n",
       "      <td>32.431035</td>\n",
       "      <td>32.901211</td>\n",
       "      <td>5027.517434</td>\n",
       "    </tr>\n",
       "    <tr>\n",
       "      <th>17</th>\n",
       "      <td>14.0</td>\n",
       "      <td>5.070906</td>\n",
       "      <td>1.427849</td>\n",
       "      <td>0.348329</td>\n",
       "      <td>5.073120</td>\n",
       "      <td>5.382808</td>\n",
       "      <td>5.724251</td>\n",
       "      <td>6.215903</td>\n",
       "    </tr>\n",
       "    <tr>\n",
       "      <th>18</th>\n",
       "      <td>8.0</td>\n",
       "      <td>0.463944</td>\n",
       "      <td>0.202559</td>\n",
       "      <td>0.265065</td>\n",
       "      <td>0.320033</td>\n",
       "      <td>0.389019</td>\n",
       "      <td>0.558747</td>\n",
       "      <td>0.833426</td>\n",
       "    </tr>\n",
       "    <tr>\n",
       "      <th>20</th>\n",
       "      <td>3.0</td>\n",
       "      <td>4.445181</td>\n",
       "      <td>3.593761</td>\n",
       "      <td>0.315653</td>\n",
       "      <td>3.235765</td>\n",
       "      <td>6.155876</td>\n",
       "      <td>6.509946</td>\n",
       "      <td>6.864015</td>\n",
       "    </tr>\n",
       "    <tr>\n",
       "      <th>21</th>\n",
       "      <td>4.0</td>\n",
       "      <td>1.792174</td>\n",
       "      <td>2.951073</td>\n",
       "      <td>0.279142</td>\n",
       "      <td>0.293560</td>\n",
       "      <td>0.335592</td>\n",
       "      <td>1.834206</td>\n",
       "      <td>6.218369</td>\n",
       "    </tr>\n",
       "  </tbody>\n",
       "</table>\n",
       "</div>"
      ],
      "text/plain": [
       "                      count          mean          std           min  \\\n",
       "dst_name        hops                                                   \n",
       "www.meta.com    1       2.0  14991.985578     4.200858  14989.015123   \n",
       "                7     296.0     29.359789    34.346857      0.550378   \n",
       "                8      27.0     12.005242     9.396858      0.636625   \n",
       "                9     205.0     50.505576    27.096444      3.264946   \n",
       "                10    109.0     66.775726    50.505128      4.674444   \n",
       "                11     97.0     22.239473    15.113922      3.418756   \n",
       "                12    154.0     21.332208    31.640390      1.739554   \n",
       "                13    327.0     56.648018    67.988480      1.887537   \n",
       "                14     37.0     16.077260    19.647276      3.510574   \n",
       "                15     69.0    325.712689  1460.755914      3.537358   \n",
       "                16     30.0     65.031947    13.981581     56.577824   \n",
       "                17      3.0     77.310981    42.503730     50.368112   \n",
       "                18      0.0           NaN          NaN           NaN   \n",
       "                19      0.0           NaN          NaN           NaN   \n",
       "                20      0.0           NaN          NaN           NaN   \n",
       "                22      1.0     13.034957          NaN     13.034957   \n",
       "                23      0.0           NaN          NaN           NaN   \n",
       "www.tiktok.com  1       2.0  14994.087368     3.740989  14991.442089   \n",
       "                5     501.0      9.288426    11.176772      0.361714   \n",
       "                6     597.0      8.124395    11.475800      0.225437   \n",
       "                7     120.0     66.304220   461.145673      0.859604   \n",
       "                8       7.0     61.957642     1.970330     59.474375   \n",
       "                9     144.0     34.375249    24.448700      1.767444   \n",
       "                10    134.0     63.426727    48.170590      1.890682   \n",
       "                11    131.0     58.351524    93.725390      6.210208   \n",
       "                12     63.0    550.677663  1731.980900      6.255541   \n",
       "                13    209.0    171.804876   508.113096      1.253716   \n",
       "                14     34.0    183.346185   864.162543      6.980303   \n",
       "                15    349.0     57.893438    28.322772      4.302185   \n",
       "                16     48.0     74.649019    64.449142      1.809610   \n",
       "                17    238.0    172.587923   172.968526      1.147358   \n",
       "                18      5.0     46.495317    11.984715     30.356952   \n",
       "                19      1.0      6.896286          NaN      6.896286   \n",
       "                20      3.0     42.573812    12.344640     35.277334   \n",
       "                21      6.0     56.636132    14.528932     31.376803   \n",
       "                22      0.0           NaN          NaN           NaN   \n",
       "                24      2.0     69.473686    21.656035     54.160556   \n",
       "                25      5.0     62.263156    13.961584     53.235326   \n",
       "                27      2.0     84.250290    32.444267     61.308728   \n",
       "                28      2.0     37.389769     0.891556     36.759344   \n",
       "www.youtube.com 1       2.0  14992.521503     0.121006  14992.435939   \n",
       "                7     485.0     22.087640   226.900766      0.361115   \n",
       "                8     292.0     16.969272    19.087225      1.115705   \n",
       "                9     317.0    394.585779  1267.949303      1.180030   \n",
       "                10     15.0     14.244889    35.914398      1.921088   \n",
       "                11      1.0      4.645165          NaN      4.645165   \n",
       "                12     10.0      8.465329    10.007400      1.851873   \n",
       "                13     70.0    101.145499   274.299114      1.245155   \n",
       "                14     78.0      0.472130     0.339992      0.234225   \n",
       "                15     32.0   1293.432739  3363.853623      0.333581   \n",
       "                16     29.0    202.475236   928.024524      0.328458   \n",
       "                17     14.0      5.070906     1.427849      0.348329   \n",
       "                18      8.0      0.463944     0.202559      0.265065   \n",
       "                20      3.0      4.445181     3.593761      0.315653   \n",
       "                21      4.0      1.792174     2.951073      0.279142   \n",
       "\n",
       "                               25%           50%           75%           max  \n",
       "dst_name        hops                                                          \n",
       "www.meta.com    1     14990.500351  14991.985578  14993.470806  14994.956034  \n",
       "                7         6.557605     11.331551     52.856504    251.648762  \n",
       "                8         7.408397      9.545708     12.380320     47.256147  \n",
       "                9        32.782736     51.436913     54.509723    144.835569  \n",
       "                10       58.618143     59.568050     61.452642    452.561402  \n",
       "                11       18.357996     21.031668     23.600975    116.659936  \n",
       "                12        7.829733      9.570854     11.842398    157.701758  \n",
       "                13        6.030619     57.169608     87.302986    911.588463  \n",
       "                14        7.249412      9.046062     11.303000     79.557817  \n",
       "                15        5.377064     10.331162     66.849688  10077.012552  \n",
       "                16       57.737299     59.038265     61.469092    107.617769  \n",
       "                17       52.812040     55.255968     90.782415    126.308862  \n",
       "                18             NaN           NaN           NaN           NaN  \n",
       "                19             NaN           NaN           NaN           NaN  \n",
       "                20             NaN           NaN           NaN           NaN  \n",
       "                22       13.034957     13.034957     13.034957     13.034957  \n",
       "                23             NaN           NaN           NaN           NaN  \n",
       "www.tiktok.com  1     14992.764729  14994.087368  14995.410008  14996.732647  \n",
       "                5         6.296122      8.067090      9.513082    174.543187  \n",
       "                6         3.864360      6.401866      9.109555    123.743927  \n",
       "                7         6.003061     14.098210     31.516590   5068.404918  \n",
       "                8        60.457508     62.024091     63.409963     64.470090  \n",
       "                9        21.229791     34.369633     44.750122    159.866447  \n",
       "                10       58.153836     60.690430     62.455071    462.331914  \n",
       "                11       33.918467     58.149936     61.093110   1055.075574  \n",
       "                12       56.350838     65.398992     93.829175  10093.153377  \n",
       "                13       57.174229     69.603772    132.688056   5061.320582  \n",
       "                14       11.475302     35.046959     61.800776   5072.245343  \n",
       "                15       52.932527     55.638859     58.282566    322.352662  \n",
       "                16       53.274004     60.732371     74.550247    347.200271  \n",
       "                17       81.848367    105.361143    263.453395   1325.169057  \n",
       "                18       37.091717     52.871895     55.258784     56.897237  \n",
       "                19        6.896286      6.896286      6.896286      6.896286  \n",
       "                20       35.447307     35.617279     46.222051     56.826823  \n",
       "                21       54.504646     57.398752     63.038879     75.183622  \n",
       "                22             NaN           NaN           NaN           NaN  \n",
       "                24       61.817121     69.473686     77.130250     84.786815  \n",
       "                25       53.235920     55.810661     62.795895     86.237979  \n",
       "                27       72.779509     84.250290     95.721070    107.191851  \n",
       "                28       37.074556     37.389769     37.704981     38.020194  \n",
       "www.youtube.com 1     14992.478721  14992.521503  14992.564285  14992.607067  \n",
       "                7         5.721603      8.002494     12.583123   5004.158897  \n",
       "                8         5.834763     10.169902     21.661138    133.645541  \n",
       "                9        25.680345     33.828573     62.121110   5051.716408  \n",
       "                10        4.954495      5.186481      5.408849    144.014123  \n",
       "                11        4.645165      4.645165      4.645165      4.645165  \n",
       "                12        2.064019      2.336251     15.594041     28.670355  \n",
       "                13        1.910445      3.107566    143.283982   1748.346932  \n",
       "                14        0.303737      0.369076      0.446583      1.980353  \n",
       "                15       34.095262     40.635062     49.095363  10090.984323  \n",
       "                16       31.842155     32.431035     32.901211   5027.517434  \n",
       "                17        5.073120      5.382808      5.724251      6.215903  \n",
       "                18        0.320033      0.389019      0.558747      0.833426  \n",
       "                20        3.235765      6.155876      6.509946      6.864015  \n",
       "                21        0.293560      0.335592      1.834206      6.218369  "
      ]
     },
     "execution_count": 53,
     "metadata": {},
     "output_type": "execute_result"
    }
   ],
   "source": [
    "trace_results.groupby([\"dst_name\",\"hops\"])[\"ttr\"].describe()\n"
   ]
  },
  {
   "cell_type": "code",
   "execution_count": 31,
   "id": "bf73bd35-73bc-494b-80ae-a8a849bd5b1b",
   "metadata": {},
   "outputs": [],
   "source": [
    "import plotly.express as px\n"
   ]
  },
  {
   "cell_type": "code",
   "execution_count": 32,
   "id": "6060886b-32e3-49e3-8acf-69a7d2d87683",
   "metadata": {},
   "outputs": [
    {
     "data": {
      "text/html": [
       "<div>\n",
       "<style scoped>\n",
       "    .dataframe tbody tr th:only-of-type {\n",
       "        vertical-align: middle;\n",
       "    }\n",
       "\n",
       "    .dataframe tbody tr th {\n",
       "        vertical-align: top;\n",
       "    }\n",
       "\n",
       "    .dataframe thead th {\n",
       "        text-align: right;\n",
       "    }\n",
       "</style>\n",
       "<table border=\"1\" class=\"dataframe\">\n",
       "  <thead>\n",
       "    <tr style=\"text-align: right;\">\n",
       "      <th></th>\n",
       "      <th>fw</th>\n",
       "      <th>mver</th>\n",
       "      <th>lts</th>\n",
       "      <th>endtime</th>\n",
       "      <th>dst_name</th>\n",
       "      <th>ttr</th>\n",
       "      <th>dst_addr</th>\n",
       "      <th>src_addr</th>\n",
       "      <th>proto</th>\n",
       "      <th>af</th>\n",
       "      <th>...</th>\n",
       "      <th>prb_id</th>\n",
       "      <th>timestamp</th>\n",
       "      <th>msm_name</th>\n",
       "      <th>from</th>\n",
       "      <th>type</th>\n",
       "      <th>group_id</th>\n",
       "      <th>stored_timestamp</th>\n",
       "      <th>hops</th>\n",
       "      <th>fecha</th>\n",
       "      <th>fecha_str</th>\n",
       "    </tr>\n",
       "  </thead>\n",
       "  <tbody>\n",
       "    <tr>\n",
       "      <th>0</th>\n",
       "      <td>5040</td>\n",
       "      <td>2.4.1</td>\n",
       "      <td>37</td>\n",
       "      <td>1718344716</td>\n",
       "      <td>www.tiktok.com</td>\n",
       "      <td>59.570485</td>\n",
       "      <td>23.201.195.155</td>\n",
       "      <td>192.168.1.33</td>\n",
       "      <td>ICMP</td>\n",
       "      <td>4</td>\n",
       "      <td>...</td>\n",
       "      <td>1003249</td>\n",
       "      <td>1718344667</td>\n",
       "      <td>Traceroute</td>\n",
       "      <td>45.238.188.144</td>\n",
       "      <td>traceroute</td>\n",
       "      <td>73358277</td>\n",
       "      <td>1718344717</td>\n",
       "      <td>11</td>\n",
       "      <td>2024-06-14 05:57:47</td>\n",
       "      <td>14/06/2024</td>\n",
       "    </tr>\n",
       "    <tr>\n",
       "      <th>1</th>\n",
       "      <td>5060</td>\n",
       "      <td>2.5.1</td>\n",
       "      <td>3</td>\n",
       "      <td>1718344705</td>\n",
       "      <td>www.tiktok.com</td>\n",
       "      <td>83.953238</td>\n",
       "      <td>104.97.2.138</td>\n",
       "      <td>192.168.1.110</td>\n",
       "      <td>ICMP</td>\n",
       "      <td>4</td>\n",
       "      <td>...</td>\n",
       "      <td>1004112</td>\n",
       "      <td>1718344667</td>\n",
       "      <td>Traceroute</td>\n",
       "      <td>189.174.31.12</td>\n",
       "      <td>traceroute</td>\n",
       "      <td>73358277</td>\n",
       "      <td>1718344706</td>\n",
       "      <td>15</td>\n",
       "      <td>2024-06-14 05:57:47</td>\n",
       "      <td>14/06/2024</td>\n",
       "    </tr>\n",
       "    <tr>\n",
       "      <th>2</th>\n",
       "      <td>5080</td>\n",
       "      <td>2.6.2</td>\n",
       "      <td>4</td>\n",
       "      <td>1718344668</td>\n",
       "      <td>www.tiktok.com</td>\n",
       "      <td>7.962550</td>\n",
       "      <td>23.64.121.40</td>\n",
       "      <td>192.168.1.111</td>\n",
       "      <td>ICMP</td>\n",
       "      <td>4</td>\n",
       "      <td>...</td>\n",
       "      <td>1004979</td>\n",
       "      <td>1718344667</td>\n",
       "      <td>Traceroute</td>\n",
       "      <td>187.173.149.178</td>\n",
       "      <td>traceroute</td>\n",
       "      <td>73358277</td>\n",
       "      <td>1718344669</td>\n",
       "      <td>6</td>\n",
       "      <td>2024-06-14 05:57:47</td>\n",
       "      <td>14/06/2024</td>\n",
       "    </tr>\n",
       "    <tr>\n",
       "      <th>3</th>\n",
       "      <td>5080</td>\n",
       "      <td>2.6.2</td>\n",
       "      <td>24</td>\n",
       "      <td>1718344667</td>\n",
       "      <td>www.tiktok.com</td>\n",
       "      <td>0.874699</td>\n",
       "      <td>23.64.121.19</td>\n",
       "      <td>200.25.81.165</td>\n",
       "      <td>ICMP</td>\n",
       "      <td>4</td>\n",
       "      <td>...</td>\n",
       "      <td>1006632</td>\n",
       "      <td>1718344667</td>\n",
       "      <td>Traceroute</td>\n",
       "      <td>200.25.81.165</td>\n",
       "      <td>traceroute</td>\n",
       "      <td>73358277</td>\n",
       "      <td>1718344668</td>\n",
       "      <td>6</td>\n",
       "      <td>2024-06-14 05:57:47</td>\n",
       "      <td>14/06/2024</td>\n",
       "    </tr>\n",
       "    <tr>\n",
       "      <th>4</th>\n",
       "      <td>5080</td>\n",
       "      <td>2.6.2</td>\n",
       "      <td>6</td>\n",
       "      <td>1718344672</td>\n",
       "      <td>www.tiktok.com</td>\n",
       "      <td>4.594371</td>\n",
       "      <td>23.64.121.65</td>\n",
       "      <td>172.18.0.2</td>\n",
       "      <td>ICMP</td>\n",
       "      <td>4</td>\n",
       "      <td>...</td>\n",
       "      <td>1008340</td>\n",
       "      <td>1718344667</td>\n",
       "      <td>Traceroute</td>\n",
       "      <td>187.155.19.64</td>\n",
       "      <td>traceroute</td>\n",
       "      <td>73358277</td>\n",
       "      <td>1718344673</td>\n",
       "      <td>7</td>\n",
       "      <td>2024-06-14 05:57:47</td>\n",
       "      <td>14/06/2024</td>\n",
       "    </tr>\n",
       "    <tr>\n",
       "      <th>...</th>\n",
       "      <td>...</td>\n",
       "      <td>...</td>\n",
       "      <td>...</td>\n",
       "      <td>...</td>\n",
       "      <td>...</td>\n",
       "      <td>...</td>\n",
       "      <td>...</td>\n",
       "      <td>...</td>\n",
       "      <td>...</td>\n",
       "      <td>...</td>\n",
       "      <td>...</td>\n",
       "      <td>...</td>\n",
       "      <td>...</td>\n",
       "      <td>...</td>\n",
       "      <td>...</td>\n",
       "      <td>...</td>\n",
       "      <td>...</td>\n",
       "      <td>...</td>\n",
       "      <td>...</td>\n",
       "      <td>...</td>\n",
       "      <td>...</td>\n",
       "    </tr>\n",
       "    <tr>\n",
       "      <th>5916</th>\n",
       "      <td>5040</td>\n",
       "      <td>2.4.1</td>\n",
       "      <td>34</td>\n",
       "      <td>1722553352</td>\n",
       "      <td>www.youtube.com</td>\n",
       "      <td>34.101434</td>\n",
       "      <td>172.217.3.142</td>\n",
       "      <td>192.168.1.36</td>\n",
       "      <td>ICMP</td>\n",
       "      <td>4</td>\n",
       "      <td>...</td>\n",
       "      <td>1003249</td>\n",
       "      <td>1722553351</td>\n",
       "      <td>Traceroute</td>\n",
       "      <td>45.238.188.144</td>\n",
       "      <td>traceroute</td>\n",
       "      <td>76468932</td>\n",
       "      <td>1722553353</td>\n",
       "      <td>9</td>\n",
       "      <td>2024-08-01 23:02:31</td>\n",
       "      <td>01/08/2024</td>\n",
       "    </tr>\n",
       "    <tr>\n",
       "      <th>5917</th>\n",
       "      <td>5080</td>\n",
       "      <td>2.6.2</td>\n",
       "      <td>11</td>\n",
       "      <td>1722553423</td>\n",
       "      <td>www.youtube.com</td>\n",
       "      <td>32.525437</td>\n",
       "      <td>192.178.56.110</td>\n",
       "      <td>192.168.100.5</td>\n",
       "      <td>ICMP</td>\n",
       "      <td>4</td>\n",
       "      <td>...</td>\n",
       "      <td>60714</td>\n",
       "      <td>1722553350</td>\n",
       "      <td>Traceroute</td>\n",
       "      <td>177.240.30.196</td>\n",
       "      <td>traceroute</td>\n",
       "      <td>76468932</td>\n",
       "      <td>1722553424</td>\n",
       "      <td>15</td>\n",
       "      <td>2024-08-01 23:02:30</td>\n",
       "      <td>01/08/2024</td>\n",
       "    </tr>\n",
       "    <tr>\n",
       "      <th>5918</th>\n",
       "      <td>5080</td>\n",
       "      <td>2.6.2</td>\n",
       "      <td>18</td>\n",
       "      <td>1722553354</td>\n",
       "      <td>www.youtube.com</td>\n",
       "      <td>1.917643</td>\n",
       "      <td>172.217.12.142</td>\n",
       "      <td>10.17.38.65</td>\n",
       "      <td>ICMP</td>\n",
       "      <td>4</td>\n",
       "      <td>...</td>\n",
       "      <td>60909</td>\n",
       "      <td>1722553351</td>\n",
       "      <td>Traceroute</td>\n",
       "      <td>187.228.64.162</td>\n",
       "      <td>traceroute</td>\n",
       "      <td>76468932</td>\n",
       "      <td>1722553355</td>\n",
       "      <td>13</td>\n",
       "      <td>2024-08-01 23:02:31</td>\n",
       "      <td>01/08/2024</td>\n",
       "    </tr>\n",
       "    <tr>\n",
       "      <th>5919</th>\n",
       "      <td>5080</td>\n",
       "      <td>2.6.2</td>\n",
       "      <td>5</td>\n",
       "      <td>1722553356</td>\n",
       "      <td>www.youtube.com</td>\n",
       "      <td>9.261933</td>\n",
       "      <td>192.178.56.238</td>\n",
       "      <td>172.18.0.2</td>\n",
       "      <td>ICMP</td>\n",
       "      <td>4</td>\n",
       "      <td>...</td>\n",
       "      <td>1008340</td>\n",
       "      <td>1722553351</td>\n",
       "      <td>Traceroute</td>\n",
       "      <td>189.176.56.21</td>\n",
       "      <td>traceroute</td>\n",
       "      <td>76468932</td>\n",
       "      <td>1722553357</td>\n",
       "      <td>8</td>\n",
       "      <td>2024-08-01 23:02:31</td>\n",
       "      <td>01/08/2024</td>\n",
       "    </tr>\n",
       "    <tr>\n",
       "      <th>5920</th>\n",
       "      <td>5080</td>\n",
       "      <td>2.6.2</td>\n",
       "      <td>26</td>\n",
       "      <td>1722553351</td>\n",
       "      <td>www.youtube.com</td>\n",
       "      <td>4.854927</td>\n",
       "      <td>192.178.57.14</td>\n",
       "      <td>192.168.1.66</td>\n",
       "      <td>ICMP</td>\n",
       "      <td>4</td>\n",
       "      <td>...</td>\n",
       "      <td>19709</td>\n",
       "      <td>1722553350</td>\n",
       "      <td>Traceroute</td>\n",
       "      <td>201.108.156.204</td>\n",
       "      <td>traceroute</td>\n",
       "      <td>76468932</td>\n",
       "      <td>1722553352</td>\n",
       "      <td>7</td>\n",
       "      <td>2024-08-01 23:02:30</td>\n",
       "      <td>01/08/2024</td>\n",
       "    </tr>\n",
       "  </tbody>\n",
       "</table>\n",
       "<p>5921 rows × 25 columns</p>\n",
       "</div>"
      ],
      "text/plain": [
       "        fw   mver  lts     endtime         dst_name        ttr  \\\n",
       "0     5040  2.4.1   37  1718344716   www.tiktok.com  59.570485   \n",
       "1     5060  2.5.1    3  1718344705   www.tiktok.com  83.953238   \n",
       "2     5080  2.6.2    4  1718344668   www.tiktok.com   7.962550   \n",
       "3     5080  2.6.2   24  1718344667   www.tiktok.com   0.874699   \n",
       "4     5080  2.6.2    6  1718344672   www.tiktok.com   4.594371   \n",
       "...    ...    ...  ...         ...              ...        ...   \n",
       "5916  5040  2.4.1   34  1722553352  www.youtube.com  34.101434   \n",
       "5917  5080  2.6.2   11  1722553423  www.youtube.com  32.525437   \n",
       "5918  5080  2.6.2   18  1722553354  www.youtube.com   1.917643   \n",
       "5919  5080  2.6.2    5  1722553356  www.youtube.com   9.261933   \n",
       "5920  5080  2.6.2   26  1722553351  www.youtube.com   4.854927   \n",
       "\n",
       "            dst_addr       src_addr proto  af  ...   prb_id   timestamp  \\\n",
       "0     23.201.195.155   192.168.1.33  ICMP   4  ...  1003249  1718344667   \n",
       "1       104.97.2.138  192.168.1.110  ICMP   4  ...  1004112  1718344667   \n",
       "2       23.64.121.40  192.168.1.111  ICMP   4  ...  1004979  1718344667   \n",
       "3       23.64.121.19  200.25.81.165  ICMP   4  ...  1006632  1718344667   \n",
       "4       23.64.121.65     172.18.0.2  ICMP   4  ...  1008340  1718344667   \n",
       "...              ...            ...   ...  ..  ...      ...         ...   \n",
       "5916   172.217.3.142   192.168.1.36  ICMP   4  ...  1003249  1722553351   \n",
       "5917  192.178.56.110  192.168.100.5  ICMP   4  ...    60714  1722553350   \n",
       "5918  172.217.12.142    10.17.38.65  ICMP   4  ...    60909  1722553351   \n",
       "5919  192.178.56.238     172.18.0.2  ICMP   4  ...  1008340  1722553351   \n",
       "5920   192.178.57.14   192.168.1.66  ICMP   4  ...    19709  1722553350   \n",
       "\n",
       "        msm_name             from        type  group_id  stored_timestamp  \\\n",
       "0     Traceroute   45.238.188.144  traceroute  73358277        1718344717   \n",
       "1     Traceroute    189.174.31.12  traceroute  73358277        1718344706   \n",
       "2     Traceroute  187.173.149.178  traceroute  73358277        1718344669   \n",
       "3     Traceroute    200.25.81.165  traceroute  73358277        1718344668   \n",
       "4     Traceroute    187.155.19.64  traceroute  73358277        1718344673   \n",
       "...          ...              ...         ...       ...               ...   \n",
       "5916  Traceroute   45.238.188.144  traceroute  76468932        1722553353   \n",
       "5917  Traceroute   177.240.30.196  traceroute  76468932        1722553424   \n",
       "5918  Traceroute   187.228.64.162  traceroute  76468932        1722553355   \n",
       "5919  Traceroute    189.176.56.21  traceroute  76468932        1722553357   \n",
       "5920  Traceroute  201.108.156.204  traceroute  76468932        1722553352   \n",
       "\n",
       "     hops               fecha   fecha_str  \n",
       "0      11 2024-06-14 05:57:47  14/06/2024  \n",
       "1      15 2024-06-14 05:57:47  14/06/2024  \n",
       "2       6 2024-06-14 05:57:47  14/06/2024  \n",
       "3       6 2024-06-14 05:57:47  14/06/2024  \n",
       "4       7 2024-06-14 05:57:47  14/06/2024  \n",
       "...   ...                 ...         ...  \n",
       "5916    9 2024-08-01 23:02:31  01/08/2024  \n",
       "5917   15 2024-08-01 23:02:30  01/08/2024  \n",
       "5918   13 2024-08-01 23:02:31  01/08/2024  \n",
       "5919    8 2024-08-01 23:02:31  01/08/2024  \n",
       "5920    7 2024-08-01 23:02:30  01/08/2024  \n",
       "\n",
       "[5921 rows x 25 columns]"
      ]
     },
     "execution_count": 32,
     "metadata": {},
     "output_type": "execute_result"
    }
   ],
   "source": [
    "trace_results['fecha'] = pd.to_datetime(trace_results['timestamp'], unit='s')\n",
    "# Formatear a dd/mm/aaaa\n",
    "trace_results['fecha_str'] = trace_results['fecha'].dt.strftime('%d/%m/%Y')\n",
    "trace_results"
   ]
  },
  {
   "cell_type": "code",
   "execution_count": 33,
   "id": "3d76f3e6-76a9-443b-b683-a7b003cb85b8",
   "metadata": {},
   "outputs": [
    {
     "data": {
      "text/html": [
       "<div>\n",
       "<style scoped>\n",
       "    .dataframe tbody tr th:only-of-type {\n",
       "        vertical-align: middle;\n",
       "    }\n",
       "\n",
       "    .dataframe tbody tr th {\n",
       "        vertical-align: top;\n",
       "    }\n",
       "\n",
       "    .dataframe thead th {\n",
       "        text-align: right;\n",
       "    }\n",
       "</style>\n",
       "<table border=\"1\" class=\"dataframe\">\n",
       "  <thead>\n",
       "    <tr style=\"text-align: right;\">\n",
       "      <th></th>\n",
       "      <th>fecha_str</th>\n",
       "      <th>dst_addr</th>\n",
       "      <th>dst_name</th>\n",
       "      <th>hops</th>\n",
       "      <th>ttr_promedio</th>\n",
       "    </tr>\n",
       "  </thead>\n",
       "  <tbody>\n",
       "    <tr>\n",
       "      <th>0</th>\n",
       "      <td>01/07/2024</td>\n",
       "      <td>104.86.191.135</td>\n",
       "      <td>www.tiktok.com</td>\n",
       "      <td>17</td>\n",
       "      <td>84.509965</td>\n",
       "    </tr>\n",
       "    <tr>\n",
       "      <th>1</th>\n",
       "      <td>01/07/2024</td>\n",
       "      <td>104.86.191.137</td>\n",
       "      <td>www.tiktok.com</td>\n",
       "      <td>15</td>\n",
       "      <td>57.303085</td>\n",
       "    </tr>\n",
       "    <tr>\n",
       "      <th>2</th>\n",
       "      <td>01/07/2024</td>\n",
       "      <td>104.86.191.138</td>\n",
       "      <td>www.tiktok.com</td>\n",
       "      <td>15</td>\n",
       "      <td>53.742593</td>\n",
       "    </tr>\n",
       "    <tr>\n",
       "      <th>3</th>\n",
       "      <td>01/07/2024</td>\n",
       "      <td>104.86.191.138</td>\n",
       "      <td>www.tiktok.com</td>\n",
       "      <td>17</td>\n",
       "      <td>53.759047</td>\n",
       "    </tr>\n",
       "    <tr>\n",
       "      <th>4</th>\n",
       "      <td>01/07/2024</td>\n",
       "      <td>104.86.191.140</td>\n",
       "      <td>www.tiktok.com</td>\n",
       "      <td>17</td>\n",
       "      <td>113.654989</td>\n",
       "    </tr>\n",
       "    <tr>\n",
       "      <th>...</th>\n",
       "      <td>...</td>\n",
       "      <td>...</td>\n",
       "      <td>...</td>\n",
       "      <td>...</td>\n",
       "      <td>...</td>\n",
       "    </tr>\n",
       "    <tr>\n",
       "      <th>4130</th>\n",
       "      <td>30/06/2024</td>\n",
       "      <td>23.64.121.89</td>\n",
       "      <td>www.tiktok.com</td>\n",
       "      <td>16</td>\n",
       "      <td>NaN</td>\n",
       "    </tr>\n",
       "    <tr>\n",
       "      <th>4131</th>\n",
       "      <td>30/06/2024</td>\n",
       "      <td>23.64.121.91</td>\n",
       "      <td>www.tiktok.com</td>\n",
       "      <td>13</td>\n",
       "      <td>64.162759</td>\n",
       "    </tr>\n",
       "    <tr>\n",
       "      <th>4132</th>\n",
       "      <td>30/06/2024</td>\n",
       "      <td>23.64.121.96</td>\n",
       "      <td>www.tiktok.com</td>\n",
       "      <td>9</td>\n",
       "      <td>5.763382</td>\n",
       "    </tr>\n",
       "    <tr>\n",
       "      <th>4133</th>\n",
       "      <td>30/06/2024</td>\n",
       "      <td>23.64.121.98</td>\n",
       "      <td>www.tiktok.com</td>\n",
       "      <td>6</td>\n",
       "      <td>6.674583</td>\n",
       "    </tr>\n",
       "    <tr>\n",
       "      <th>4134</th>\n",
       "      <td>30/06/2024</td>\n",
       "      <td>23.64.121.99</td>\n",
       "      <td>www.tiktok.com</td>\n",
       "      <td>6</td>\n",
       "      <td>7.910024</td>\n",
       "    </tr>\n",
       "  </tbody>\n",
       "</table>\n",
       "<p>4135 rows × 5 columns</p>\n",
       "</div>"
      ],
      "text/plain": [
       "       fecha_str        dst_addr        dst_name  hops  ttr_promedio\n",
       "0     01/07/2024  104.86.191.135  www.tiktok.com    17     84.509965\n",
       "1     01/07/2024  104.86.191.137  www.tiktok.com    15     57.303085\n",
       "2     01/07/2024  104.86.191.138  www.tiktok.com    15     53.742593\n",
       "3     01/07/2024  104.86.191.138  www.tiktok.com    17     53.759047\n",
       "4     01/07/2024  104.86.191.140  www.tiktok.com    17    113.654989\n",
       "...          ...             ...             ...   ...           ...\n",
       "4130  30/06/2024    23.64.121.89  www.tiktok.com    16           NaN\n",
       "4131  30/06/2024    23.64.121.91  www.tiktok.com    13     64.162759\n",
       "4132  30/06/2024    23.64.121.96  www.tiktok.com     9      5.763382\n",
       "4133  30/06/2024    23.64.121.98  www.tiktok.com     6      6.674583\n",
       "4134  30/06/2024    23.64.121.99  www.tiktok.com     6      7.910024\n",
       "\n",
       "[4135 rows x 5 columns]"
      ]
     },
     "execution_count": 33,
     "metadata": {},
     "output_type": "execute_result"
    }
   ],
   "source": [
    "df2 = trace_results.groupby([\"fecha_str\",\"dst_addr\",\"dst_name\",\"hops\"])[\"ttr\"].mean().reset_index(name=\"ttr_promedio\")\n",
    "# Convertir timestamp a datetime\n",
    "df2\n"
   ]
  },
  {
   "cell_type": "code",
   "execution_count": null,
   "id": "326699ce-54cb-465e-bdf0-45d7d04cbf21",
   "metadata": {},
   "outputs": [],
   "source": []
  },
  {
   "cell_type": "code",
   "execution_count": 34,
   "id": "19863bf4-a723-45fc-9bd5-71b4a38ebeaa",
   "metadata": {},
   "outputs": [
    {
     "data": {
      "text/html": [
       "<div>\n",
       "<style scoped>\n",
       "    .dataframe tbody tr th:only-of-type {\n",
       "        vertical-align: middle;\n",
       "    }\n",
       "\n",
       "    .dataframe tbody tr th {\n",
       "        vertical-align: top;\n",
       "    }\n",
       "\n",
       "    .dataframe thead th {\n",
       "        text-align: right;\n",
       "    }\n",
       "</style>\n",
       "<table border=\"1\" class=\"dataframe\">\n",
       "  <thead>\n",
       "    <tr style=\"text-align: right;\">\n",
       "      <th></th>\n",
       "      <th>fecha_str</th>\n",
       "      <th>dst_addr</th>\n",
       "      <th>dst_name</th>\n",
       "      <th>hops</th>\n",
       "      <th>ttr_promedio</th>\n",
       "    </tr>\n",
       "  </thead>\n",
       "  <tbody>\n",
       "    <tr>\n",
       "      <th>799</th>\n",
       "      <td>10/07/2024</td>\n",
       "      <td>23.64.121.18</td>\n",
       "      <td>www.tiktok.com</td>\n",
       "      <td>12</td>\n",
       "      <td>10093.153377</td>\n",
       "    </tr>\n",
       "    <tr>\n",
       "      <th>694</th>\n",
       "      <td>10/07/2024</td>\n",
       "      <td>142.251.34.46</td>\n",
       "      <td>www.youtube.com</td>\n",
       "      <td>15</td>\n",
       "      <td>10090.984323</td>\n",
       "    </tr>\n",
       "    <tr>\n",
       "      <th>715</th>\n",
       "      <td>10/07/2024</td>\n",
       "      <td>172.217.4.174</td>\n",
       "      <td>www.youtube.com</td>\n",
       "      <td>15</td>\n",
       "      <td>10033.297268</td>\n",
       "    </tr>\n",
       "    <tr>\n",
       "      <th>2356</th>\n",
       "      <td>22/06/2024</td>\n",
       "      <td>104.93.21.35</td>\n",
       "      <td>www.tiktok.com</td>\n",
       "      <td>14</td>\n",
       "      <td>5072.245343</td>\n",
       "    </tr>\n",
       "    <tr>\n",
       "      <th>3428</th>\n",
       "      <td>27/06/2024</td>\n",
       "      <td>23.63.230.18</td>\n",
       "      <td>www.tiktok.com</td>\n",
       "      <td>12</td>\n",
       "      <td>5069.481123</td>\n",
       "    </tr>\n",
       "    <tr>\n",
       "      <th>...</th>\n",
       "      <td>...</td>\n",
       "      <td>...</td>\n",
       "      <td>...</td>\n",
       "      <td>...</td>\n",
       "      <td>...</td>\n",
       "    </tr>\n",
       "    <tr>\n",
       "      <th>4117</th>\n",
       "      <td>30/06/2024</td>\n",
       "      <td>23.64.121.49</td>\n",
       "      <td>www.tiktok.com</td>\n",
       "      <td>12</td>\n",
       "      <td>NaN</td>\n",
       "    </tr>\n",
       "    <tr>\n",
       "      <th>4118</th>\n",
       "      <td>30/06/2024</td>\n",
       "      <td>23.64.121.51</td>\n",
       "      <td>www.tiktok.com</td>\n",
       "      <td>13</td>\n",
       "      <td>NaN</td>\n",
       "    </tr>\n",
       "    <tr>\n",
       "      <th>4120</th>\n",
       "      <td>30/06/2024</td>\n",
       "      <td>23.64.121.56</td>\n",
       "      <td>www.tiktok.com</td>\n",
       "      <td>16</td>\n",
       "      <td>NaN</td>\n",
       "    </tr>\n",
       "    <tr>\n",
       "      <th>4121</th>\n",
       "      <td>30/06/2024</td>\n",
       "      <td>23.64.121.57</td>\n",
       "      <td>www.tiktok.com</td>\n",
       "      <td>16</td>\n",
       "      <td>NaN</td>\n",
       "    </tr>\n",
       "    <tr>\n",
       "      <th>4130</th>\n",
       "      <td>30/06/2024</td>\n",
       "      <td>23.64.121.89</td>\n",
       "      <td>www.tiktok.com</td>\n",
       "      <td>16</td>\n",
       "      <td>NaN</td>\n",
       "    </tr>\n",
       "  </tbody>\n",
       "</table>\n",
       "<p>4135 rows × 5 columns</p>\n",
       "</div>"
      ],
      "text/plain": [
       "       fecha_str       dst_addr         dst_name  hops  ttr_promedio\n",
       "799   10/07/2024   23.64.121.18   www.tiktok.com    12  10093.153377\n",
       "694   10/07/2024  142.251.34.46  www.youtube.com    15  10090.984323\n",
       "715   10/07/2024  172.217.4.174  www.youtube.com    15  10033.297268\n",
       "2356  22/06/2024   104.93.21.35   www.tiktok.com    14   5072.245343\n",
       "3428  27/06/2024   23.63.230.18   www.tiktok.com    12   5069.481123\n",
       "...          ...            ...              ...   ...           ...\n",
       "4117  30/06/2024   23.64.121.49   www.tiktok.com    12           NaN\n",
       "4118  30/06/2024   23.64.121.51   www.tiktok.com    13           NaN\n",
       "4120  30/06/2024   23.64.121.56   www.tiktok.com    16           NaN\n",
       "4121  30/06/2024   23.64.121.57   www.tiktok.com    16           NaN\n",
       "4130  30/06/2024   23.64.121.89   www.tiktok.com    16           NaN\n",
       "\n",
       "[4135 rows x 5 columns]"
      ]
     },
     "execution_count": 34,
     "metadata": {},
     "output_type": "execute_result"
    }
   ],
   "source": [
    "df2 = df2.sort_values(by=\"ttr_promedio\",ascending=False)\n",
    "df2"
   ]
  },
  {
   "cell_type": "code",
   "execution_count": null,
   "id": "39ebec02-0ab0-4cdc-b201-bb62f40b6e67",
   "metadata": {},
   "outputs": [],
   "source": []
  },
  {
   "cell_type": "code",
   "execution_count": 35,
   "id": "ce6ccc40-05ae-4056-a523-4d32aeadc837",
   "metadata": {},
   "outputs": [
    {
     "data": {
      "application/vnd.plotly.v1+json": {
       "config": {
        "plotlyServerURL": "https://plot.ly"
       },
       "data": [
        {
         "bingroup": "x",
         "hovertemplate": "dst_name=www.tiktok.com<br>ttr_promedio=%{x}<br>count=%{y}<extra></extra>",
         "legendgroup": "www.tiktok.com",
         "marker": {
          "color": "#636efa",
          "pattern": {
           "shape": ""
          }
         },
         "name": "www.tiktok.com",
         "orientation": "v",
         "showlegend": true,
         "type": "histogram",
         "x": {
          "bdata": "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",
          "dtype": "f8"
         },
         "xaxis": "x",
         "yaxis": "y"
        },
        {
         "bingroup": "x",
         "hovertemplate": "dst_name=www.youtube.com<br>ttr_promedio=%{x}<br>count=%{y}<extra></extra>",
         "legendgroup": "www.youtube.com",
         "marker": {
          "color": "#EF553B",
          "pattern": {
           "shape": ""
          }
         },
         "name": "www.youtube.com",
         "orientation": "v",
         "showlegend": true,
         "type": "histogram",
         "x": {
          "bdata": "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",
          "dtype": "f8"
         },
         "xaxis": "x",
         "yaxis": "y"
        },
        {
         "bingroup": "x",
         "hovertemplate": "dst_name=www.meta.com<br>ttr_promedio=%{x}<br>count=%{y}<extra></extra>",
         "legendgroup": "www.meta.com",
         "marker": {
          "color": "#00cc96",
          "pattern": {
           "shape": ""
          }
         },
         "name": "www.meta.com",
         "orientation": "v",
         "showlegend": true,
         "type": "histogram",
         "x": {
          "bdata": "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",
          "dtype": "f8"
         },
         "xaxis": "x",
         "yaxis": "y"
        }
       ],
       "layout": {
        "barmode": "relative",
        "legend": {
         "title": {
          "text": "dst_name"
         },
         "tracegroupgap": 0
        },
        "margin": {
         "t": 60
        },
        "template": {
         "data": {
          "bar": [
           {
            "error_x": {
             "color": "#2a3f5f"
            },
            "error_y": {
             "color": "#2a3f5f"
            },
            "marker": {
             "line": {
              "color": "#E5ECF6",
              "width": 0.5
             },
             "pattern": {
              "fillmode": "overlay",
              "size": 10,
              "solidity": 0.2
             }
            },
            "type": "bar"
           }
          ],
          "barpolar": [
           {
            "marker": {
             "line": {
              "color": "#E5ECF6",
              "width": 0.5
             },
             "pattern": {
              "fillmode": "overlay",
              "size": 10,
              "solidity": 0.2
             }
            },
            "type": "barpolar"
           }
          ],
          "carpet": [
           {
            "aaxis": {
             "endlinecolor": "#2a3f5f",
             "gridcolor": "white",
             "linecolor": "white",
             "minorgridcolor": "white",
             "startlinecolor": "#2a3f5f"
            },
            "baxis": {
             "endlinecolor": "#2a3f5f",
             "gridcolor": "white",
             "linecolor": "white",
             "minorgridcolor": "white",
             "startlinecolor": "#2a3f5f"
            },
            "type": "carpet"
           }
          ],
          "choropleth": [
           {
            "colorbar": {
             "outlinewidth": 0,
             "ticks": ""
            },
            "type": "choropleth"
           }
          ],
          "contour": [
           {
            "colorbar": {
             "outlinewidth": 0,
             "ticks": ""
            },
            "colorscale": [
             [
              0,
              "#0d0887"
             ],
             [
              0.1111111111111111,
              "#46039f"
             ],
             [
              0.2222222222222222,
              "#7201a8"
             ],
             [
              0.3333333333333333,
              "#9c179e"
             ],
             [
              0.4444444444444444,
              "#bd3786"
             ],
             [
              0.5555555555555556,
              "#d8576b"
             ],
             [
              0.6666666666666666,
              "#ed7953"
             ],
             [
              0.7777777777777778,
              "#fb9f3a"
             ],
             [
              0.8888888888888888,
              "#fdca26"
             ],
             [
              1,
              "#f0f921"
             ]
            ],
            "type": "contour"
           }
          ],
          "contourcarpet": [
           {
            "colorbar": {
             "outlinewidth": 0,
             "ticks": ""
            },
            "type": "contourcarpet"
           }
          ],
          "heatmap": [
           {
            "colorbar": {
             "outlinewidth": 0,
             "ticks": ""
            },
            "colorscale": [
             [
              0,
              "#0d0887"
             ],
             [
              0.1111111111111111,
              "#46039f"
             ],
             [
              0.2222222222222222,
              "#7201a8"
             ],
             [
              0.3333333333333333,
              "#9c179e"
             ],
             [
              0.4444444444444444,
              "#bd3786"
             ],
             [
              0.5555555555555556,
              "#d8576b"
             ],
             [
              0.6666666666666666,
              "#ed7953"
             ],
             [
              0.7777777777777778,
              "#fb9f3a"
             ],
             [
              0.8888888888888888,
              "#fdca26"
             ],
             [
              1,
              "#f0f921"
             ]
            ],
            "type": "heatmap"
           }
          ],
          "histogram": [
           {
            "marker": {
             "pattern": {
              "fillmode": "overlay",
              "size": 10,
              "solidity": 0.2
             }
            },
            "type": "histogram"
           }
          ],
          "histogram2d": [
           {
            "colorbar": {
             "outlinewidth": 0,
             "ticks": ""
            },
            "colorscale": [
             [
              0,
              "#0d0887"
             ],
             [
              0.1111111111111111,
              "#46039f"
             ],
             [
              0.2222222222222222,
              "#7201a8"
             ],
             [
              0.3333333333333333,
              "#9c179e"
             ],
             [
              0.4444444444444444,
              "#bd3786"
             ],
             [
              0.5555555555555556,
              "#d8576b"
             ],
             [
              0.6666666666666666,
              "#ed7953"
             ],
             [
              0.7777777777777778,
              "#fb9f3a"
             ],
             [
              0.8888888888888888,
              "#fdca26"
             ],
             [
              1,
              "#f0f921"
             ]
            ],
            "type": "histogram2d"
           }
          ],
          "histogram2dcontour": [
           {
            "colorbar": {
             "outlinewidth": 0,
             "ticks": ""
            },
            "colorscale": [
             [
              0,
              "#0d0887"
             ],
             [
              0.1111111111111111,
              "#46039f"
             ],
             [
              0.2222222222222222,
              "#7201a8"
             ],
             [
              0.3333333333333333,
              "#9c179e"
             ],
             [
              0.4444444444444444,
              "#bd3786"
             ],
             [
              0.5555555555555556,
              "#d8576b"
             ],
             [
              0.6666666666666666,
              "#ed7953"
             ],
             [
              0.7777777777777778,
              "#fb9f3a"
             ],
             [
              0.8888888888888888,
              "#fdca26"
             ],
             [
              1,
              "#f0f921"
             ]
            ],
            "type": "histogram2dcontour"
           }
          ],
          "mesh3d": [
           {
            "colorbar": {
             "outlinewidth": 0,
             "ticks": ""
            },
            "type": "mesh3d"
           }
          ],
          "parcoords": [
           {
            "line": {
             "colorbar": {
              "outlinewidth": 0,
              "ticks": ""
             }
            },
            "type": "parcoords"
           }
          ],
          "pie": [
           {
            "automargin": true,
            "type": "pie"
           }
          ],
          "scatter": [
           {
            "fillpattern": {
             "fillmode": "overlay",
             "size": 10,
             "solidity": 0.2
            },
            "type": "scatter"
           }
          ],
          "scatter3d": [
           {
            "line": {
             "colorbar": {
              "outlinewidth": 0,
              "ticks": ""
             }
            },
            "marker": {
             "colorbar": {
              "outlinewidth": 0,
              "ticks": ""
             }
            },
            "type": "scatter3d"
           }
          ],
          "scattercarpet": [
           {
            "marker": {
             "colorbar": {
              "outlinewidth": 0,
              "ticks": ""
             }
            },
            "type": "scattercarpet"
           }
          ],
          "scattergeo": [
           {
            "marker": {
             "colorbar": {
              "outlinewidth": 0,
              "ticks": ""
             }
            },
            "type": "scattergeo"
           }
          ],
          "scattergl": [
           {
            "marker": {
             "colorbar": {
              "outlinewidth": 0,
              "ticks": ""
             }
            },
            "type": "scattergl"
           }
          ],
          "scattermap": [
           {
            "marker": {
             "colorbar": {
              "outlinewidth": 0,
              "ticks": ""
             }
            },
            "type": "scattermap"
           }
          ],
          "scattermapbox": [
           {
            "marker": {
             "colorbar": {
              "outlinewidth": 0,
              "ticks": ""
             }
            },
            "type": "scattermapbox"
           }
          ],
          "scatterpolar": [
           {
            "marker": {
             "colorbar": {
              "outlinewidth": 0,
              "ticks": ""
             }
            },
            "type": "scatterpolar"
           }
          ],
          "scatterpolargl": [
           {
            "marker": {
             "colorbar": {
              "outlinewidth": 0,
              "ticks": ""
             }
            },
            "type": "scatterpolargl"
           }
          ],
          "scatterternary": [
           {
            "marker": {
             "colorbar": {
              "outlinewidth": 0,
              "ticks": ""
             }
            },
            "type": "scatterternary"
           }
          ],
          "surface": [
           {
            "colorbar": {
             "outlinewidth": 0,
             "ticks": ""
            },
            "colorscale": [
             [
              0,
              "#0d0887"
             ],
             [
              0.1111111111111111,
              "#46039f"
             ],
             [
              0.2222222222222222,
              "#7201a8"
             ],
             [
              0.3333333333333333,
              "#9c179e"
             ],
             [
              0.4444444444444444,
              "#bd3786"
             ],
             [
              0.5555555555555556,
              "#d8576b"
             ],
             [
              0.6666666666666666,
              "#ed7953"
             ],
             [
              0.7777777777777778,
              "#fb9f3a"
             ],
             [
              0.8888888888888888,
              "#fdca26"
             ],
             [
              1,
              "#f0f921"
             ]
            ],
            "type": "surface"
           }
          ],
          "table": [
           {
            "cells": {
             "fill": {
              "color": "#EBF0F8"
             },
             "line": {
              "color": "white"
             }
            },
            "header": {
             "fill": {
              "color": "#C8D4E3"
             },
             "line": {
              "color": "white"
             }
            },
            "type": "table"
           }
          ]
         },
         "layout": {
          "annotationdefaults": {
           "arrowcolor": "#2a3f5f",
           "arrowhead": 0,
           "arrowwidth": 1
          },
          "autotypenumbers": "strict",
          "coloraxis": {
           "colorbar": {
            "outlinewidth": 0,
            "ticks": ""
           }
          },
          "colorscale": {
           "diverging": [
            [
             0,
             "#8e0152"
            ],
            [
             0.1,
             "#c51b7d"
            ],
            [
             0.2,
             "#de77ae"
            ],
            [
             0.3,
             "#f1b6da"
            ],
            [
             0.4,
             "#fde0ef"
            ],
            [
             0.5,
             "#f7f7f7"
            ],
            [
             0.6,
             "#e6f5d0"
            ],
            [
             0.7,
             "#b8e186"
            ],
            [
             0.8,
             "#7fbc41"
            ],
            [
             0.9,
             "#4d9221"
            ],
            [
             1,
             "#276419"
            ]
           ],
           "sequential": [
            [
             0,
             "#0d0887"
            ],
            [
             0.1111111111111111,
             "#46039f"
            ],
            [
             0.2222222222222222,
             "#7201a8"
            ],
            [
             0.3333333333333333,
             "#9c179e"
            ],
            [
             0.4444444444444444,
             "#bd3786"
            ],
            [
             0.5555555555555556,
             "#d8576b"
            ],
            [
             0.6666666666666666,
             "#ed7953"
            ],
            [
             0.7777777777777778,
             "#fb9f3a"
            ],
            [
             0.8888888888888888,
             "#fdca26"
            ],
            [
             1,
             "#f0f921"
            ]
           ],
           "sequentialminus": [
            [
             0,
             "#0d0887"
            ],
            [
             0.1111111111111111,
             "#46039f"
            ],
            [
             0.2222222222222222,
             "#7201a8"
            ],
            [
             0.3333333333333333,
             "#9c179e"
            ],
            [
             0.4444444444444444,
             "#bd3786"
            ],
            [
             0.5555555555555556,
             "#d8576b"
            ],
            [
             0.6666666666666666,
             "#ed7953"
            ],
            [
             0.7777777777777778,
             "#fb9f3a"
            ],
            [
             0.8888888888888888,
             "#fdca26"
            ],
            [
             1,
             "#f0f921"
            ]
           ]
          },
          "colorway": [
           "#636efa",
           "#EF553B",
           "#00cc96",
           "#ab63fa",
           "#FFA15A",
           "#19d3f3",
           "#FF6692",
           "#B6E880",
           "#FF97FF",
           "#FECB52"
          ],
          "font": {
           "color": "#2a3f5f"
          },
          "geo": {
           "bgcolor": "white",
           "lakecolor": "white",
           "landcolor": "#E5ECF6",
           "showlakes": true,
           "showland": true,
           "subunitcolor": "white"
          },
          "hoverlabel": {
           "align": "left"
          },
          "hovermode": "closest",
          "mapbox": {
           "style": "light"
          },
          "paper_bgcolor": "white",
          "plot_bgcolor": "#E5ECF6",
          "polar": {
           "angularaxis": {
            "gridcolor": "white",
            "linecolor": "white",
            "ticks": ""
           },
           "bgcolor": "#E5ECF6",
           "radialaxis": {
            "gridcolor": "white",
            "linecolor": "white",
            "ticks": ""
           }
          },
          "scene": {
           "xaxis": {
            "backgroundcolor": "#E5ECF6",
            "gridcolor": "white",
            "gridwidth": 2,
            "linecolor": "white",
            "showbackground": true,
            "ticks": "",
            "zerolinecolor": "white"
           },
           "yaxis": {
            "backgroundcolor": "#E5ECF6",
            "gridcolor": "white",
            "gridwidth": 2,
            "linecolor": "white",
            "showbackground": true,
            "ticks": "",
            "zerolinecolor": "white"
           },
           "zaxis": {
            "backgroundcolor": "#E5ECF6",
            "gridcolor": "white",
            "gridwidth": 2,
            "linecolor": "white",
            "showbackground": true,
            "ticks": "",
            "zerolinecolor": "white"
           }
          },
          "shapedefaults": {
           "line": {
            "color": "#2a3f5f"
           }
          },
          "ternary": {
           "aaxis": {
            "gridcolor": "white",
            "linecolor": "white",
            "ticks": ""
           },
           "baxis": {
            "gridcolor": "white",
            "linecolor": "white",
            "ticks": ""
           },
           "bgcolor": "#E5ECF6",
           "caxis": {
            "gridcolor": "white",
            "linecolor": "white",
            "ticks": ""
           }
          },
          "title": {
           "x": 0.05
          },
          "xaxis": {
           "automargin": true,
           "gridcolor": "white",
           "linecolor": "white",
           "ticks": "",
           "title": {
            "standoff": 15
           },
           "zerolinecolor": "white",
           "zerolinewidth": 2
          },
          "yaxis": {
           "automargin": true,
           "gridcolor": "white",
           "linecolor": "white",
           "ticks": "",
           "title": {
            "standoff": 15
           },
           "zerolinecolor": "white",
           "zerolinewidth": 2
          }
         }
        },
        "xaxis": {
         "anchor": "y",
         "domain": [
          0,
          1
         ],
         "title": {
          "text": "ttr_promedio"
         }
        },
        "yaxis": {
         "anchor": "x",
         "domain": [
          0,
          1
         ],
         "title": {
          "text": "count"
         },
         "type": "log"
        }
       }
      },
      "image/png": "[encoded data removed]"
     },
     "metadata": {},
     "output_type": "display_data"
    }
   ],
   "source": [
    "import plotly.express as px\n",
    "#df = px.data.tips()\n",
    "fig = px.histogram(df2, x='ttr_promedio',log_y=True,color='dst_name')\n",
    "fig.show()"
   ]
  },
  {
   "cell_type": "code",
   "execution_count": null,
   "id": "513671f2-f3ce-4d50-9aa6-c95d1c9ac230",
   "metadata": {},
   "outputs": [],
   "source": []
  },
  {
   "cell_type": "code",
   "execution_count": null,
   "id": "a84939c9-ee27-4215-9f94-14d0196a8b96",
   "metadata": {},
   "outputs": [],
   "source": []
  },
  {
   "cell_type": "code",
   "execution_count": 54,
   "id": "4bf9d8ec-15cd-4f6d-bf03-599b0abbf1cc",
   "metadata": {},
   "outputs": [
    {
     "data": {
      "application/vnd.plotly.v1+json": {
       "config": {
        "plotlyServerURL": "https://plot.ly"
       },
       "data": [
        {
         "bingroup": "x",
         "hovertemplate": "dst_name=www.tiktok.com<br>hops=%{x}<br>count=%{y}<extra></extra>",
         "legendgroup": "www.tiktok.com",
         "marker": {
          "color": "#636efa",
          "pattern": {
           "shape": ""
          }
         },
         "name": "www.tiktok.com",
         "orientation": "v",
         "showlegend": true,
         "type": "histogram",
         "x": {
          "bdata": "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",
          "dtype": "i1"
         },
         "xaxis": "x",
         "yaxis": "y"
        },
        {
         "bingroup": "x",
         "hovertemplate": "dst_name=www.youtube.com<br>hops=%{x}<br>count=%{y}<extra></extra>",
         "legendgroup": "www.youtube.com",
         "marker": {
          "color": "#EF553B",
          "pattern": {
           "shape": ""
          }
         },
         "name": "www.youtube.com",
         "orientation": "v",
         "showlegend": true,
         "type": "histogram",
         "x": {
          "bdata": "Dw8JCQ8PCQkQCQkJCQkJCQkJBwkJCQkJCQkJCQ0NCQkNDQkJDwkNCQ0NCQ0JDQkJCQoNDQ0NCQkNCQ0NCQkICQkJCAgJCAkJCAkJCAkJDwkJCQkJCAkJCQ0NDQkNCA0NDQkJCQ0JCQgICQkJCAkJCQkJCQkJCQkJCQkNCQgJCAkHBwcJDwgJDwgNCQ8PDw8PCAgJCQkJCQgPDwgPCAgICQ8ICAkJDw8JDwgJCQkICAkJDwkJCQkJCQkJCQkJCQkJEAkPCQkJCQkJDwkQCAkJCQkJEAkHDxAQCAkQDwgQEBAQDxAQEBAQCRAQEBAQEBAQCRAJCAgHCAkJCAgJCAkJCQkJCQkJCAcJCAcICAcMCQkJBwcHBwgICAcIBwcJBwcIBwcJBwcICAgHBwcHCQkICQkJCQkJCAkJCQkJCQkJBwkHCQgJCQkJCQkJCQkJCQkJCQkJCQkJBwcIBwgICAcHCAcHCAgHCAcHBwcHCAgHBwcICAcHBwcHBwgICAgHCAgIBwgIBwcHCAcMBwcJCQcJCAgJCAkHCAgICQcIBwgHCAcICAgIBwcICAcICAcHCAcIBwcHBwgHBwcICAcHBwcHBwcIBwkJCAcIBwgICAcHBwcHCAcHBwcICAcIBwgHCAgHCAgIBwgICAcIBwcICAgHDAgIBwcHBwgIBwcHCAcICAgHCAgHBwcHBwgHBwcIBwcIBwcIBwgHBwcHBwgHBwgHCAcHBwcHBwcHCAcHBwcICAcHBwgHBwgHCAgHBwgHBwcHBwgHCAcHBwgICAgHCAcHCAcIBwcHCAgHBwgHCAcIBwgHCAgHBwcHBwgIBwcIBwcIBwcHCAcICAcHCAgIBwcHBwcIBwgHCAcIBxQICAcHBwgIBwcIBwgIBwcIBwgHCAcHBwcHCggHCAcHCAcHCAoHFREHBwcIFAgHBwcIBwcHCAgHCAcREQcHCAgHBwcHCAgIEQgHBwcHCAgIBwcIEQgIBwgHEQcRCAgKCgcHBwgIBwcHBwgHEQoKCggRCBEHCAgKCAcHBwcRCAcKCAoKCAcICAcKCBEICAcRCAgICAcIBwcHCwcIBwcHCQwIBwcHCAcICAgICAcHCAcICAgHCAgHCggIBwgNCQkHCQcJCQkHBw0NBw0HBw0JDQ0HCQ0JDQkNCQcJDA0MDQkNBwgJDgwJDQ0KDQkNDQ0NDQkJDQkJCQwJCAgNDggNCAkODQ0HBwcHBwcODQ8ICQkOCQ0IDgkSDhIODg4OEg4ODg4ODg4ODg4SDg4ODg4ODg4ODw4ODg4ODg4VDg4ODg4ODhEOEBIODg8ODhAODg4SFA4SDg4ODg4OFQ4ODg4ODg4OFQ4OEg4ODhAQEAwMDBAQDBAQDAwQDAwQEAwMEBAMDBAMDAwQEAwQDBAQDBAMDAwQDBAMEAwMEBAQEBAQDBAQDBAQEAwQEAwQEAwQEBAQEBAQEAwQEBAMDBAQEBAQEBAQDBAMEBAMDBAQEBAMEBAMEBAMEAwQEBAQEAwQEBAMEBAQEBAQDBAQEA==",
          "dtype": "i1"
         },
         "xaxis": "x",
         "yaxis": "y"
        },
        {
         "bingroup": "x",
         "hovertemplate": "dst_name=www.meta.com<br>hops=%{x}<br>count=%{y}<extra></extra>",
         "legendgroup": "www.meta.com",
         "marker": {
          "color": "#00cc96",
          "pattern": {
           "shape": ""
          }
         },
         "name": "www.meta.com",
         "orientation": "v",
         "showlegend": true,
         "type": "histogram",
         "x": {
          "bdata": "Dw8PDQoPDQkNDQkRCQkLDQkNDAwNDQ0JDAoNDQ0NCQ0JCQ0NDQ0NDQwKDQ0NCQ0MDQ0NDQ8NDQ0JCQ4KEA0NDQwJCw8QDQ0PEAwKEAkJCgoPCgkJBwkPCRAKDQcPDg4KCgoKCgoKChAHCQoKDxAKCQkLDAkRCQwMCQkJCQkJDwkJBwkJCQkJCQkRCQkHCQwJCQcJCQ0HBwkHCwcHBwcJCQkJCgcHBwcHBwcJCQkLCQkJCwkHCQ0MCQkJCQcLCQcLCwkJCwsICwcLCwsJCwsLCAwICwsLCAsJCwkLDQsLCwsMBwsLBwwLBwgLDQsMDgoWBwsLBwcHDwcKCwgMCwwIDgcMCgwMCw4HDAwHDAwMCAgNDAcMDgcNDgcHDA0ICAkNBw0NDg0JDQkNDQ0PDQ0NCw8NDQ8PDQ0PDw8JCQ0PCA0ICAwSFAwSEBIMDBIWDBAMEhQMDwwSDAwSEgwSDBIQEhASDA4SDA4SDBMTFxITDBISEgwSDAwSDAwSDA==",
          "dtype": "i1"
         },
         "xaxis": "x",
         "yaxis": "y"
        }
       ],
       "layout": {
        "barmode": "relative",
        "legend": {
         "title": {
          "text": "dst_name"
         },
         "tracegroupgap": 0
        },
        "margin": {
         "t": 60
        },
        "template": {
         "data": {
          "bar": [
           {
            "error_x": {
             "color": "#2a3f5f"
            },
            "error_y": {
             "color": "#2a3f5f"
            },
            "marker": {
             "line": {
              "color": "#E5ECF6",
              "width": 0.5
             },
             "pattern": {
              "fillmode": "overlay",
              "size": 10,
              "solidity": 0.2
             }
            },
            "type": "bar"
           }
          ],
          "barpolar": [
           {
            "marker": {
             "line": {
              "color": "#E5ECF6",
              "width": 0.5
             },
             "pattern": {
              "fillmode": "overlay",
              "size": 10,
              "solidity": 0.2
             }
            },
            "type": "barpolar"
           }
          ],
          "carpet": [
           {
            "aaxis": {
             "endlinecolor": "#2a3f5f",
             "gridcolor": "white",
             "linecolor": "white",
             "minorgridcolor": "white",
             "startlinecolor": "#2a3f5f"
            },
            "baxis": {
             "endlinecolor": "#2a3f5f",
             "gridcolor": "white",
             "linecolor": "white",
             "minorgridcolor": "white",
             "startlinecolor": "#2a3f5f"
            },
            "type": "carpet"
           }
          ],
          "choropleth": [
           {
            "colorbar": {
             "outlinewidth": 0,
             "ticks": ""
            },
            "type": "choropleth"
           }
          ],
          "contour": [
           {
            "colorbar": {
             "outlinewidth": 0,
             "ticks": ""
            },
            "colorscale": [
             [
              0,
              "#0d0887"
             ],
             [
              0.1111111111111111,
              "#46039f"
             ],
             [
              0.2222222222222222,
              "#7201a8"
             ],
             [
              0.3333333333333333,
              "#9c179e"
             ],
             [
              0.4444444444444444,
              "#bd3786"
             ],
             [
              0.5555555555555556,
              "#d8576b"
             ],
             [
              0.6666666666666666,
              "#ed7953"
             ],
             [
              0.7777777777777778,
              "#fb9f3a"
             ],
             [
              0.8888888888888888,
              "#fdca26"
             ],
             [
              1,
              "#f0f921"
             ]
            ],
            "type": "contour"
           }
          ],
          "contourcarpet": [
           {
            "colorbar": {
             "outlinewidth": 0,
             "ticks": ""
            },
            "type": "contourcarpet"
           }
          ],
          "heatmap": [
           {
            "colorbar": {
             "outlinewidth": 0,
             "ticks": ""
            },
            "colorscale": [
             [
              0,
              "#0d0887"
             ],
             [
              0.1111111111111111,
              "#46039f"
             ],
             [
              0.2222222222222222,
              "#7201a8"
             ],
             [
              0.3333333333333333,
              "#9c179e"
             ],
             [
              0.4444444444444444,
              "#bd3786"
             ],
             [
              0.5555555555555556,
              "#d8576b"
             ],
             [
              0.6666666666666666,
              "#ed7953"
             ],
             [
              0.7777777777777778,
              "#fb9f3a"
             ],
             [
              0.8888888888888888,
              "#fdca26"
             ],
             [
              1,
              "#f0f921"
             ]
            ],
            "type": "heatmap"
           }
          ],
          "histogram": [
           {
            "marker": {
             "pattern": {
              "fillmode": "overlay",
              "size": 10,
              "solidity": 0.2
             }
            },
            "type": "histogram"
           }
          ],
          "histogram2d": [
           {
            "colorbar": {
             "outlinewidth": 0,
             "ticks": ""
            },
            "colorscale": [
             [
              0,
              "#0d0887"
             ],
             [
              0.1111111111111111,
              "#46039f"
             ],
             [
              0.2222222222222222,
              "#7201a8"
             ],
             [
              0.3333333333333333,
              "#9c179e"
             ],
             [
              0.4444444444444444,
              "#bd3786"
             ],
             [
              0.5555555555555556,
              "#d8576b"
             ],
             [
              0.6666666666666666,
              "#ed7953"
             ],
             [
              0.7777777777777778,
              "#fb9f3a"
             ],
             [
              0.8888888888888888,
              "#fdca26"
             ],
             [
              1,
              "#f0f921"
             ]
            ],
            "type": "histogram2d"
           }
          ],
          "histogram2dcontour": [
           {
            "colorbar": {
             "outlinewidth": 0,
             "ticks": ""
            },
            "colorscale": [
             [
              0,
              "#0d0887"
             ],
             [
              0.1111111111111111,
              "#46039f"
             ],
             [
              0.2222222222222222,
              "#7201a8"
             ],
             [
              0.3333333333333333,
              "#9c179e"
             ],
             [
              0.4444444444444444,
              "#bd3786"
             ],
             [
              0.5555555555555556,
              "#d8576b"
             ],
             [
              0.6666666666666666,
              "#ed7953"
             ],
             [
              0.7777777777777778,
              "#fb9f3a"
             ],
             [
              0.8888888888888888,
              "#fdca26"
             ],
             [
              1,
              "#f0f921"
             ]
            ],
            "type": "histogram2dcontour"
           }
          ],
          "mesh3d": [
           {
            "colorbar": {
             "outlinewidth": 0,
             "ticks": ""
            },
            "type": "mesh3d"
           }
          ],
          "parcoords": [
           {
            "line": {
             "colorbar": {
              "outlinewidth": 0,
              "ticks": ""
             }
            },
            "type": "parcoords"
           }
          ],
          "pie": [
           {
            "automargin": true,
            "type": "pie"
           }
          ],
          "scatter": [
           {
            "fillpattern": {
             "fillmode": "overlay",
             "size": 10,
             "solidity": 0.2
            },
            "type": "scatter"
           }
          ],
          "scatter3d": [
           {
            "line": {
             "colorbar": {
              "outlinewidth": 0,
              "ticks": ""
             }
            },
            "marker": {
             "colorbar": {
              "outlinewidth": 0,
              "ticks": ""
             }
            },
            "type": "scatter3d"
           }
          ],
          "scattercarpet": [
           {
            "marker": {
             "colorbar": {
              "outlinewidth": 0,
              "ticks": ""
             }
            },
            "type": "scattercarpet"
           }
          ],
          "scattergeo": [
           {
            "marker": {
             "colorbar": {
              "outlinewidth": 0,
              "ticks": ""
             }
            },
            "type": "scattergeo"
           }
          ],
          "scattergl": [
           {
            "marker": {
             "colorbar": {
              "outlinewidth": 0,
              "ticks": ""
             }
            },
            "type": "scattergl"
           }
          ],
          "scattermap": [
           {
            "marker": {
             "colorbar": {
              "outlinewidth": 0,
              "ticks": ""
             }
            },
            "type": "scattermap"
           }
          ],
          "scattermapbox": [
           {
            "marker": {
             "colorbar": {
              "outlinewidth": 0,
              "ticks": ""
             }
            },
            "type": "scattermapbox"
           }
          ],
          "scatterpolar": [
           {
            "marker": {
             "colorbar": {
              "outlinewidth": 0,
              "ticks": ""
             }
            },
            "type": "scatterpolar"
           }
          ],
          "scatterpolargl": [
           {
            "marker": {
             "colorbar": {
              "outlinewidth": 0,
              "ticks": ""
             }
            },
            "type": "scatterpolargl"
           }
          ],
          "scatterternary": [
           {
            "marker": {
             "colorbar": {
              "outlinewidth": 0,
              "ticks": ""
             }
            },
            "type": "scatterternary"
           }
          ],
          "surface": [
           {
            "colorbar": {
             "outlinewidth": 0,
             "ticks": ""
            },
            "colorscale": [
             [
              0,
              "#0d0887"
             ],
             [
              0.1111111111111111,
              "#46039f"
             ],
             [
              0.2222222222222222,
              "#7201a8"
             ],
             [
              0.3333333333333333,
              "#9c179e"
             ],
             [
              0.4444444444444444,
              "#bd3786"
             ],
             [
              0.5555555555555556,
              "#d8576b"
             ],
             [
              0.6666666666666666,
              "#ed7953"
             ],
             [
              0.7777777777777778,
              "#fb9f3a"
             ],
             [
              0.8888888888888888,
              "#fdca26"
             ],
             [
              1,
              "#f0f921"
             ]
            ],
            "type": "surface"
           }
          ],
          "table": [
           {
            "cells": {
             "fill": {
              "color": "#EBF0F8"
             },
             "line": {
              "color": "white"
             }
            },
            "header": {
             "fill": {
              "color": "#C8D4E3"
             },
             "line": {
              "color": "white"
             }
            },
            "type": "table"
           }
          ]
         },
         "layout": {
          "annotationdefaults": {
           "arrowcolor": "#2a3f5f",
           "arrowhead": 0,
           "arrowwidth": 1
          },
          "autotypenumbers": "strict",
          "coloraxis": {
           "colorbar": {
            "outlinewidth": 0,
            "ticks": ""
           }
          },
          "colorscale": {
           "diverging": [
            [
             0,
             "#8e0152"
            ],
            [
             0.1,
             "#c51b7d"
            ],
            [
             0.2,
             "#de77ae"
            ],
            [
             0.3,
             "#f1b6da"
            ],
            [
             0.4,
             "#fde0ef"
            ],
            [
             0.5,
             "#f7f7f7"
            ],
            [
             0.6,
             "#e6f5d0"
            ],
            [
             0.7,
             "#b8e186"
            ],
            [
             0.8,
             "#7fbc41"
            ],
            [
             0.9,
             "#4d9221"
            ],
            [
             1,
             "#276419"
            ]
           ],
           "sequential": [
            [
             0,
             "#0d0887"
            ],
            [
             0.1111111111111111,
             "#46039f"
            ],
            [
             0.2222222222222222,
             "#7201a8"
            ],
            [
             0.3333333333333333,
             "#9c179e"
            ],
            [
             0.4444444444444444,
             "#bd3786"
            ],
            [
             0.5555555555555556,
             "#d8576b"
            ],
            [
             0.6666666666666666,
             "#ed7953"
            ],
            [
             0.7777777777777778,
             "#fb9f3a"
            ],
            [
             0.8888888888888888,
             "#fdca26"
            ],
            [
             1,
             "#f0f921"
            ]
           ],
           "sequentialminus": [
            [
             0,
             "#0d0887"
            ],
            [
             0.1111111111111111,
             "#46039f"
            ],
            [
             0.2222222222222222,
             "#7201a8"
            ],
            [
             0.3333333333333333,
             "#9c179e"
            ],
            [
             0.4444444444444444,
             "#bd3786"
            ],
            [
             0.5555555555555556,
             "#d8576b"
            ],
            [
             0.6666666666666666,
             "#ed7953"
            ],
            [
             0.7777777777777778,
             "#fb9f3a"
            ],
            [
             0.8888888888888888,
             "#fdca26"
            ],
            [
             1,
             "#f0f921"
            ]
           ]
          },
          "colorway": [
           "#636efa",
           "#EF553B",
           "#00cc96",
           "#ab63fa",
           "#FFA15A",
           "#19d3f3",
           "#FF6692",
           "#B6E880",
           "#FF97FF",
           "#FECB52"
          ],
          "font": {
           "color": "#2a3f5f"
          },
          "geo": {
           "bgcolor": "white",
           "lakecolor": "white",
           "landcolor": "#E5ECF6",
           "showlakes": true,
           "showland": true,
           "subunitcolor": "white"
          },
          "hoverlabel": {
           "align": "left"
          },
          "hovermode": "closest",
          "mapbox": {
           "style": "light"
          },
          "paper_bgcolor": "white",
          "plot_bgcolor": "#E5ECF6",
          "polar": {
           "angularaxis": {
            "gridcolor": "white",
            "linecolor": "white",
            "ticks": ""
           },
           "bgcolor": "#E5ECF6",
           "radialaxis": {
            "gridcolor": "white",
            "linecolor": "white",
            "ticks": ""
           }
          },
          "scene": {
           "xaxis": {
            "backgroundcolor": "#E5ECF6",
            "gridcolor": "white",
            "gridwidth": 2,
            "linecolor": "white",
            "showbackground": true,
            "ticks": "",
            "zerolinecolor": "white"
           },
           "yaxis": {
            "backgroundcolor": "#E5ECF6",
            "gridcolor": "white",
            "gridwidth": 2,
            "linecolor": "white",
            "showbackground": true,
            "ticks": "",
            "zerolinecolor": "white"
           },
           "zaxis": {
            "backgroundcolor": "#E5ECF6",
            "gridcolor": "white",
            "gridwidth": 2,
            "linecolor": "white",
            "showbackground": true,
            "ticks": "",
            "zerolinecolor": "white"
           }
          },
          "shapedefaults": {
           "line": {
            "color": "#2a3f5f"
           }
          },
          "ternary": {
           "aaxis": {
            "gridcolor": "white",
            "linecolor": "white",
            "ticks": ""
           },
           "baxis": {
            "gridcolor": "white",
            "linecolor": "white",
            "ticks": ""
           },
           "bgcolor": "#E5ECF6",
           "caxis": {
            "gridcolor": "white",
            "linecolor": "white",
            "ticks": ""
           }
          },
          "title": {
           "x": 0.05
          },
          "xaxis": {
           "automargin": true,
           "gridcolor": "white",
           "linecolor": "white",
           "ticks": "",
           "title": {
            "standoff": 15
           },
           "zerolinecolor": "white",
           "zerolinewidth": 2
          },
          "yaxis": {
           "automargin": true,
           "gridcolor": "white",
           "linecolor": "white",
           "ticks": "",
           "title": {
            "standoff": 15
           },
           "zerolinecolor": "white",
           "zerolinewidth": 2
          }
         }
        },
        "xaxis": {
         "anchor": "y",
         "domain": [
          0,
          1
         ],
         "title": {
          "text": "hops"
         }
        },
        "yaxis": {
         "anchor": "x",
         "domain": [
          0,
          1
         ],
         "title": {
          "text": "count"
         }
        }
       }
      },
      "image/png": "[encoded data removed]"
     },
     "metadata": {},
     "output_type": "display_data"
    }
   ],
   "source": [
    "fig = px.histogram(df2, x='hops',color='dst_name')\n",
    "fig.show()"
   ]
  },
  {
   "cell_type": "code",
   "execution_count": null,
   "id": "a7ea5e81-d75f-4101-808a-e61ad7ee070c",
   "metadata": {},
   "outputs": [],
   "source": []
  },
  {
   "cell_type": "code",
   "execution_count": null,
   "id": "726dc98c-8d81-4dc0-bb1e-d42c5e67e0f6",
   "metadata": {},
   "outputs": [],
   "source": [
    "\n",
    "\n"
   ]
  },
  {
   "cell_type": "code",
   "execution_count": 37,
   "id": "c9b9199d-141b-460c-b7f7-0a6ef269e0b4",
   "metadata": {},
   "outputs": [],
   "source": [
    "import geoip2.database\n",
    "\n",
    "def get_ip_coor(ip):\n",
    "    with geoip2.database.Reader('GeoLite2-City_20250826/GeoLite2-City.mmdb') as reader:\n",
    "    # Lookup city information for the given IP address\n",
    "        response = reader.city(ip)\n",
    "        \n",
    "        #print(f\"Country: {response.country.iso_code}\")\n",
    "        #print(f\"City: {response.city.name} \")\n",
    "        #print(f\"Latitude: {response.location.latitude}\")\n",
    "        #print(f\"Longitude: {response.location.longitude}\")\n",
    "    return (response.location.latitude,response.location.longitude),response.country.iso_code\n",
    "\n",
    "\n",
    "\n",
    "def get_asn_info(ip):\n",
    "    # Open the GeoLite2-ASN database\n",
    "    try: \n",
    "        with geoip2.database.Reader('GeoLite2-ASN_20250826/GeoLite2-ASN.mmdb') as reader:\n",
    "            # Lookup ASN information for the given IP address\n",
    "            response = reader.asn(ip)\n",
    "            #print(f\"ASN: {response.autonomous_system_number}\")\n",
    "            #print(f\"Organization: {response.autonomous_system_organization}\")\n",
    "            return response.autonomous_system_number,response.autonomous_system_organization\n",
    "    except Exception as e:\n",
    "        print(e)\n",
    "        return \"NA\",\"NA\""
   ]
  },
  {
   "cell_type": "code",
   "execution_count": 55,
   "id": "202b01b7-3fdf-4956-88b9-e343d8550750",
   "metadata": {},
   "outputs": [
    {
     "data": {
      "text/plain": [
       "((20.85, -99.85), 'MX')"
      ]
     },
     "execution_count": 55,
     "metadata": {},
     "output_type": "execute_result"
    }
   ],
   "source": [
    "get_ip_coor('23.64.121.18')"
   ]
  },
  {
   "cell_type": "code",
   "execution_count": null,
   "id": "be7f2f6b-ceaf-4e32-9ac1-f243b522bc53",
   "metadata": {},
   "outputs": [],
   "source": []
  },
  {
   "cell_type": "code",
   "execution_count": 56,
   "id": "f00080cf-b26e-45cb-af47-4c0b63c3d6e2",
   "metadata": {},
   "outputs": [
    {
     "data": {
      "text/plain": [
       "'MX'"
      ]
     },
     "execution_count": 56,
     "metadata": {},
     "output_type": "execute_result"
    }
   ],
   "source": [
    "get_ip_coor('23.64.121.18')[1]"
   ]
  },
  {
   "cell_type": "code",
   "execution_count": 57,
   "id": "f3c7a16d-22fe-4f1c-a2b7-6229c41bfa83",
   "metadata": {},
   "outputs": [
    {
     "data": {
      "text/plain": [
       "'Akamai International B.V.'"
      ]
     },
     "execution_count": 57,
     "metadata": {},
     "output_type": "execute_result"
    }
   ],
   "source": [
    "get_asn_info('23.64.121.18')[1]"
   ]
  },
  {
   "cell_type": "code",
   "execution_count": null,
   "id": "43f0546f-1af6-4590-94a0-18cde209ddad",
   "metadata": {},
   "outputs": [],
   "source": []
  },
  {
   "cell_type": "code",
   "execution_count": null,
   "id": "171071e1-a676-4e5a-aa3d-95f047af03a5",
   "metadata": {},
   "outputs": [],
   "source": []
  },
  {
   "cell_type": "code",
   "execution_count": null,
   "id": "f6100b9d-6743-446b-9e57-5983125d242a",
   "metadata": {},
   "outputs": [],
   "source": []
  }
 ],
 "metadata": {
  "kernelspec": {
   "display_name": "Python 3 (ipykernel)",
   "language": "python",
   "name": "python3"
  },
  "language_info": {
   "codemirror_mode": {
    "name": "ipython",
    "version": 3
   },
   "file_extension": ".py",
   "mimetype": "text/x-python",
   "name": "python",
   "nbconvert_exporter": "python",
   "pygments_lexer": "ipython3",
   "version": "3.10.12"
  }
 },
 "nbformat": 4,
 "nbformat_minor": 5
}
